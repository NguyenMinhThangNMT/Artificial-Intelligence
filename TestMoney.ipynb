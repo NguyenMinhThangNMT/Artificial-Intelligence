{
  "nbformat": 4,
  "nbformat_minor": 0,
  "metadata": {
    "colab": {
      "provenance": [],
      "gpuType": "T4",
      "mount_file_id": "186Bmmmoc7ul3NSR60YIH50_hoSSuK3KO",
      "authorship_tag": "ABX9TyN3kYRF+9x0710WtxvUHs6d",
      "include_colab_link": true
    },
    "kernelspec": {
      "name": "python3",
      "display_name": "Python 3"
    },
    "language_info": {
      "name": "python"
    },
    "accelerator": "GPU",
    "gpuClass": "standard"
  },
  "cells": [
    {
      "cell_type": "markdown",
      "metadata": {
        "id": "view-in-github",
        "colab_type": "text"
      },
      "source": [
        "<a href=\"https://colab.research.google.com/github/NguyenMinhThangNMT/HomeWorks/blob/main/TestMoney.ipynb\" target=\"_parent\"><img src=\"https://colab.research.google.com/assets/colab-badge.svg\" alt=\"Open In Colab\"/></a>"
      ]
    },
    {
      "cell_type": "code",
      "execution_count": 67,
      "metadata": {
        "id": "8KAS6aP5G5Jz"
      },
      "outputs": [],
      "source": [
        "import numpy as np\n",
        "import os\n",
        "from PIL import Image"
      ]
    },
    {
      "cell_type": "code",
      "source": [
        "train_data='/content/drive/MyDrive/ANH AI/Money/train'\n",
        "test_data='/content/drive/MyDrive/ANH AI/Money/test'"
      ],
      "metadata": {
        "id": "O2FuupopHjBE"
      },
      "execution_count": 68,
      "outputs": []
    },
    {
      "cell_type": "code",
      "source": [
        "X_train=[]\n",
        "y_train=[]\n",
        "X_test=[]\n",
        "y_test=[]\n",
        "\n",
        "dict={'10K':[1,0,0,0,0,0],'20K':[0,1,0,0,0,0],'50K':[0,0,1,0,0,0],'100K':[0,0,0,1,0,0],'test10K':[1,0,0,0,0,0],'test20K':[0,1,0,0,0,0],'test50K':[0,0,1,0,0,0],'test100K':[0,0,0,1,0,0]}\n"
      ],
      "metadata": {
        "id": "fDztzSsbHrbj"
      },
      "execution_count": 69,
      "outputs": []
    },
    {
      "cell_type": "code",
      "source": [
        "def getData(dirDATA,listDATA):\n",
        " for whatever in os.listdir(dirDATA):\n",
        "    whatever_path=os.path.join(dirDATA,whatever)\n",
        "    list_filename_path=[]\n",
        "    for filename in os.listdir(whatever_path):\n",
        "        filename_path=os.path.join(whatever_path,filename)\n",
        "        label=filename_path.split('/')[7] \n",
        "        img=np.array(Image.open(filename_path))\n",
        "        list_filename_path.append((img,dict[label]))\n",
        "    listDATA.extend(list_filename_path)\n",
        " return listDATA\n",
        "X_train=getData(train_data,X_train)\n",
        "X_train=getData(test_data,X_test)\n",
        "print(len(X_train))\n",
        "print(len(X_test))"
      ],
      "metadata": {
        "colab": {
          "base_uri": "https://localhost:8080/"
        },
        "id": "rDrSGOYLH9CD",
        "outputId": "52bf190b-827e-48c9-a621-69bba526d6c4"
      },
      "execution_count": 70,
      "outputs": [
        {
          "output_type": "stream",
          "name": "stdout",
          "text": [
            "8\n",
            "8\n"
          ]
        }
      ]
    },
    {
      "cell_type": "code",
      "source": [
        "np.random.shuffle(X_train)\n",
        "np.random.shuffle(X_train)"
      ],
      "metadata": {
        "id": "uSmzfI7GWKFr"
      },
      "execution_count": 71,
      "outputs": []
    },
    {
      "cell_type": "code",
      "source": [
        "from keras.backend import categorical_crossentropy\n",
        "from keras.models import Sequential,Model\n",
        "from keras.layers import Input,Dense,Flatten,Conv2D,MaxPooling2D,Normalization\n",
        "from keras.layers import LeakyReLU\n",
        "from keras.optimizers import Adam\n",
        "\n",
        "batch_size = 64\n",
        "epoch = 20\n",
        "classes = 4\n",
        "\n",
        "model=Sequential()\n",
        "model.add(Conv2D(32, kernel_size= (3,3), activation= 'relu', input_shape= (40,30,3)))\n",
        "model.add(LeakyReLU(alpha= 0.1))\n",
        "model.add(MaxPooling2D((2,2), padding= 'same'))\n",
        "model.add(Conv2D(64, (3,3), activation= 'linear', padding= 'same'))\n",
        "model.add(LeakyReLU(alpha= 0.1))\n",
        "model.add(MaxPooling2D((2,2), padding= 'same'))\n",
        "model.add(Conv2D(128, (3,3), activation= 'linear', padding= 'same'))\n",
        "model.add(LeakyReLU(alpha= 1))\n",
        "model.add(MaxPooling2D((2,2), padding= 'same'))\n",
        "\n",
        "\n",
        "#Xây dựng mang noron(Lớp phẳng,lớp ẩn, đầu ra)\n",
        "model.add(Flatten())\n",
        "model.add(Dense(128, activation= 'linear'))\n",
        "model.add(LeakyReLU(alpha= 0.1))\n",
        "model.add(Dense(6, activation= 'softmax'))\n",
        "\n",
        "model.summary()"
      ],
      "metadata": {
        "colab": {
          "base_uri": "https://localhost:8080/"
        },
        "id": "hhgYf_3qCqOI",
        "outputId": "3b039c49-92ff-4496-a3b7-51b3573a7750"
      },
      "execution_count": 72,
      "outputs": [
        {
          "output_type": "stream",
          "name": "stdout",
          "text": [
            "Model: \"sequential_11\"\n",
            "_________________________________________________________________\n",
            " Layer (type)                Output Shape              Param #   \n",
            "=================================================================\n",
            " conv2d_33 (Conv2D)          (None, 38, 28, 32)        896       \n",
            "                                                                 \n",
            " leaky_re_lu_44 (LeakyReLU)  (None, 38, 28, 32)        0         \n",
            "                                                                 \n",
            " max_pooling2d_33 (MaxPoolin  (None, 19, 14, 32)       0         \n",
            " g2D)                                                            \n",
            "                                                                 \n",
            " conv2d_34 (Conv2D)          (None, 19, 14, 64)        18496     \n",
            "                                                                 \n",
            " leaky_re_lu_45 (LeakyReLU)  (None, 19, 14, 64)        0         \n",
            "                                                                 \n",
            " max_pooling2d_34 (MaxPoolin  (None, 10, 7, 64)        0         \n",
            " g2D)                                                            \n",
            "                                                                 \n",
            " conv2d_35 (Conv2D)          (None, 10, 7, 128)        73856     \n",
            "                                                                 \n",
            " leaky_re_lu_46 (LeakyReLU)  (None, 10, 7, 128)        0         \n",
            "                                                                 \n",
            " max_pooling2d_35 (MaxPoolin  (None, 5, 4, 128)        0         \n",
            " g2D)                                                            \n",
            "                                                                 \n",
            " flatten_11 (Flatten)        (None, 2560)              0         \n",
            "                                                                 \n",
            " dense_22 (Dense)            (None, 128)               327808    \n",
            "                                                                 \n",
            " leaky_re_lu_47 (LeakyReLU)  (None, 128)               0         \n",
            "                                                                 \n",
            " dense_23 (Dense)            (None, 6)                 774       \n",
            "                                                                 \n",
            "=================================================================\n",
            "Total params: 421,830\n",
            "Trainable params: 421,830\n",
            "Non-trainable params: 0\n",
            "_________________________________________________________________\n"
          ]
        }
      ]
    },
    {
      "cell_type": "code",
      "source": [
        "from keras.backend import categorical_crossentropy\n",
        "model.compile(loss= categorical_crossentropy, optimizer= Adam(), metrics= ['accuracy'])\n",
        "train = model.fit(np.array([x[0] for _,x in enumerate(X_train)]),np.array([y[1] for _,y in enumerate(X_train)]), epochs= 30, verbose= 1)"
      ],
      "metadata": {
        "colab": {
          "base_uri": "https://localhost:8080/"
        },
        "id": "O8Mk6hRlSjOr",
        "outputId": "cdbfa0e0-bc6c-40e9-9e74-2ef509275ce0"
      },
      "execution_count": 73,
      "outputs": [
        {
          "output_type": "stream",
          "name": "stdout",
          "text": [
            "Epoch 1/30\n",
            "1/1 [==============================] - 1s 714ms/step - loss: 46.4292 - accuracy: 0.0000e+00\n",
            "Epoch 2/30\n",
            "1/1 [==============================] - 0s 12ms/step - loss: 90.6578 - accuracy: 0.2500\n",
            "Epoch 3/30\n",
            "1/1 [==============================] - 0s 11ms/step - loss: 116.4615 - accuracy: 0.2500\n",
            "Epoch 4/30\n",
            "1/1 [==============================] - 0s 12ms/step - loss: 65.9790 - accuracy: 0.2500\n",
            "Epoch 5/30\n",
            "1/1 [==============================] - 0s 19ms/step - loss: 104.1011 - accuracy: 0.2500\n",
            "Epoch 6/30\n",
            "1/1 [==============================] - 0s 11ms/step - loss: 59.6884 - accuracy: 0.2500\n",
            "Epoch 7/30\n",
            "1/1 [==============================] - 0s 11ms/step - loss: 4.5241 - accuracy: 0.5000\n",
            "Epoch 8/30\n",
            "1/1 [==============================] - 0s 12ms/step - loss: 18.3135 - accuracy: 0.3750\n",
            "Epoch 9/30\n",
            "1/1 [==============================] - 0s 13ms/step - loss: 17.1583 - accuracy: 0.6250\n",
            "Epoch 10/30\n",
            "1/1 [==============================] - 0s 10ms/step - loss: 21.9332 - accuracy: 0.6250\n",
            "Epoch 11/30\n",
            "1/1 [==============================] - 0s 17ms/step - loss: 19.1793 - accuracy: 0.6250\n",
            "Epoch 12/30\n",
            "1/1 [==============================] - 0s 12ms/step - loss: 15.4967 - accuracy: 0.7500\n",
            "Epoch 13/30\n",
            "1/1 [==============================] - 0s 14ms/step - loss: 11.4177 - accuracy: 0.7500\n",
            "Epoch 14/30\n",
            "1/1 [==============================] - 0s 14ms/step - loss: 7.5562 - accuracy: 0.7500\n",
            "Epoch 15/30\n",
            "1/1 [==============================] - 0s 19ms/step - loss: 4.3009 - accuracy: 0.6250\n",
            "Epoch 16/30\n",
            "1/1 [==============================] - 0s 11ms/step - loss: 0.7915 - accuracy: 0.5000\n",
            "Epoch 17/30\n",
            "1/1 [==============================] - 0s 12ms/step - loss: 1.0344 - accuracy: 0.7500\n",
            "Epoch 18/30\n",
            "1/1 [==============================] - 0s 12ms/step - loss: 2.2459 - accuracy: 0.5000\n",
            "Epoch 19/30\n",
            "1/1 [==============================] - 0s 11ms/step - loss: 0.5355 - accuracy: 0.7500\n",
            "Epoch 20/30\n",
            "1/1 [==============================] - 0s 12ms/step - loss: 0.0322 - accuracy: 1.0000\n",
            "Epoch 21/30\n",
            "1/1 [==============================] - 0s 11ms/step - loss: 0.0420 - accuracy: 1.0000\n",
            "Epoch 22/30\n",
            "1/1 [==============================] - 0s 12ms/step - loss: 0.3092 - accuracy: 0.8750\n",
            "Epoch 23/30\n",
            "1/1 [==============================] - 0s 10ms/step - loss: 0.4069 - accuracy: 0.8750\n",
            "Epoch 24/30\n",
            "1/1 [==============================] - 0s 11ms/step - loss: 0.0605 - accuracy: 1.0000\n",
            "Epoch 25/30\n",
            "1/1 [==============================] - 0s 12ms/step - loss: 0.1746 - accuracy: 0.8750\n",
            "Epoch 26/30\n",
            "1/1 [==============================] - 0s 10ms/step - loss: 0.0999 - accuracy: 0.8750\n",
            "Epoch 27/30\n",
            "1/1 [==============================] - 0s 10ms/step - loss: 0.0165 - accuracy: 1.0000\n",
            "Epoch 28/30\n",
            "1/1 [==============================] - 0s 10ms/step - loss: 0.0116 - accuracy: 1.0000\n",
            "Epoch 29/30\n",
            "1/1 [==============================] - 0s 9ms/step - loss: 0.0115 - accuracy: 1.0000\n",
            "Epoch 30/30\n",
            "1/1 [==============================] - 0s 11ms/step - loss: 0.0108 - accuracy: 1.0000\n"
          ]
        }
      ]
    }
  ]
}