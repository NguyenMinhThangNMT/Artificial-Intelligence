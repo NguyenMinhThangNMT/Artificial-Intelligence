{
  "nbformat": 4,
  "nbformat_minor": 0,
  "metadata": {
    "colab": {
      "provenance": [],
      "gpuType": "T4",
      "mount_file_id": "1B2-F1mvkhHXlpQbIz5NbqhNCrA-VGy0K",
      "authorship_tag": "ABX9TyPSZgh/Uj3Z0ImGR8iTluO2",
      "include_colab_link": true
    },
    "kernelspec": {
      "name": "python3",
      "display_name": "Python 3"
    },
    "language_info": {
      "name": "python"
    },
    "accelerator": "GPU",
    "gpuClass": "standard"
  },
  "cells": [
    {
      "cell_type": "markdown",
      "metadata": {
        "id": "view-in-github",
        "colab_type": "text"
      },
      "source": [
        "<a href=\"https://colab.research.google.com/github/NguyenMinhThangNMT/HomeWorks/blob/main/Face.ipynb\" target=\"_parent\"><img src=\"https://colab.research.google.com/assets/colab-badge.svg\" alt=\"Open In Colab\"/></a>"
      ]
    },
    {
      "cell_type": "code",
      "execution_count": null,
      "metadata": {
        "id": "2rSM3gy6jfMK"
      },
      "outputs": [],
      "source": [
        "from google.colab import drive\n",
        "drive.mount('/content/drive')"
      ]
    },
    {
      "cell_type": "code",
      "source": [
        "from os import listdir\n",
        "from numpy import asarray,save\n",
        "from keras.utils import load_img, img_to_array"
      ],
      "metadata": {
        "id": "uB-0DFb8j5hZ"
      },
      "execution_count": null,
      "outputs": []
    },
    {
      "cell_type": "code",
      "source": [
        "#Xử lí dữ liệu Train\n",
        "folder = '/content/drive/MyDrive/ANH AI/Face/Train/'\n",
        "\n",
        "photos, labels = list(), list()\n",
        "for file in listdir(folder) :\n",
        "  output = 0.0\n",
        "  if file.startswith('thang'):\n",
        "    output = 1.0\n",
        "  \n",
        "  photo = load_img(folder + file, target_size = (30,40))\n",
        "  photo = img_to_array(photo)\n",
        "  photos.append(photo)\n",
        "  labels.append(output)\n",
        "photos_train = asarray(photos)\n",
        "labels_train = asarray(labels)\n",
        "print(photos_train.shape, labels_train.shape)\n",
        "\n",
        "\n",
        "save('/content/drive/MyDrive/ANH AI/Flower/Train/Face1_photo.npy',photos_train)\n",
        "save('/content/drive/MyDrive/ANH AI/Flower/Train/Face1_label.npy',labels_train)"
      ],
      "metadata": {
        "colab": {
          "base_uri": "https://localhost:8080/"
        },
        "id": "QyVEb3s5j85_",
        "outputId": "da19c9e1-dd5c-4187-c35f-19abfe4e9d47"
      },
      "execution_count": null,
      "outputs": [
        {
          "output_type": "stream",
          "name": "stdout",
          "text": [
            "(580, 30, 40, 3) (580,)\n"
          ]
        }
      ]
    },
    {
      "cell_type": "code",
      "source": [
        "#Xử lí dữ liệu Test\n",
        "folder = '/content/drive/MyDrive/ANH AI/Face/Test/'\n",
        "photos, labels = list(), list()\n",
        "for file in listdir(folder) :\n",
        "  output = 0.0\n",
        "  if file.startswith('thang'):\n",
        "    output = 1.0\n",
        " \n",
        "  photo = load_img(folder + file, target_size = (30,40))\n",
        "  photo = img_to_array(photo)\n",
        "  photos.append(photo)\n",
        "  labels.append(output)\n",
        "photos_test = asarray(photos)\n",
        "labels_test = asarray(labels)\n",
        "print(photos_test.shape, labels_test.shape)\n",
        "save('/content/drive/MyDrive/Mon AI/Face1_photo_test.npy',photos_test)\n",
        "save('/content/drive/MyDrive/Mon AI/Face1_photo_test.npy',labels_test)"
      ],
      "metadata": {
        "colab": {
          "base_uri": "https://localhost:8080/"
        },
        "id": "CTY1vYhRV1U8",
        "outputId": "4c5ee62e-36aa-4ef0-ab37-5e8eada7c0f1"
      },
      "execution_count": null,
      "outputs": [
        {
          "output_type": "stream",
          "name": "stdout",
          "text": [
            "(308, 30, 40, 3) (308,)\n"
          ]
        }
      ]
    },
    {
      "cell_type": "code",
      "source": [
        "import matplotlib.pyplot as plt\n",
        "import numpy as np\n",
        "chosen_idx = 50\n",
        "chosen_img = photos_train[chosen_idx]\n",
        "plt.imshow((chosen_img*255).astype(np.uint8))\n",
        "plt.show()"
      ],
      "metadata": {
        "colab": {
          "base_uri": "https://localhost:8080/",
          "height": 430
        },
        "id": "IvdutYiNZkno",
        "outputId": "29a5bad4-4d2e-4ad0-e5ea-c3ffdb6e4700"
      },
      "execution_count": null,
      "outputs": [
        {
          "output_type": "display_data",
          "data": {
            "text/plain": [
              "<Figure size 640x480 with 1 Axes>"
            ],
            "image/png": "[encoded data removed]"
          },
          "metadata": {}
        }
      ]
    },
    {
      "cell_type": "code",
      "source": [
        "#In các phần tửtử\n",
        "print('số ảnh dùng để train:',len(photos_train))\n",
        "print('số ảnh dùng để tét:',len(photos_test))\n",
        "print('Kích cỡ ảnh trailen',(photos_train.shape))\n",
        "print('Kích cỡ ảnh label:',labels_train.shape)\n",
        "print('Kích cỡ ảnh test:',photos_test.shape)\n",
        "print('Kích cỡ ảnh test_label:',labels_test.shape)"
      ],
      "metadata": {
        "colab": {
          "base_uri": "https://localhost:8080/"
        },
        "id": "caCu_S0MaCCg",
        "outputId": "eab47ff0-8b62-4f99-a5e2-5a013e831cb2"
      },
      "execution_count": null,
      "outputs": [
        {
          "output_type": "stream",
          "name": "stdout",
          "text": [
            "số ảnh dùng để train: 580\n",
            "số ảnh dùng để tét: 308\n",
            "Kích cỡ ảnh trailen (580, 30, 40, 3)\n",
            "Kích cỡ ảnh label: (580,)\n",
            "Kích cỡ ảnh test: (308, 30, 40, 3)\n",
            "Kích cỡ ảnh test_label: (308,)\n"
          ]
        }
      ]
    },
    {
      "cell_type": "code",
      "source": [
        "photos_train = photos_train.reshape(580, 30, 40, 3)\n",
        "photos_train = photos_train.astype('float32')/255 \n",
        "photos_test = photos_test.reshape(308, 30, 40, 3)\n",
        "photos_test = photos_test.astype('float32')/255\n",
        "\n",
        "from keras.utils import  to_categorical\n",
        "labels_train = to_categorical(labels_train)\n",
        "labels_test = to_categorical(labels_test)\n",
        "photos_train.shape, labels_train.shape, photos_test.shape, labels_test.shape"
      ],
      "metadata": {
        "colab": {
          "base_uri": "https://localhost:8080/"
        },
        "id": "F5n1NO2vagNx",
        "outputId": "c750f204-2406-4d04-9db1-53364ab71a72"
      },
      "execution_count": null,
      "outputs": [
        {
          "output_type": "execute_result",
          "data": {
            "text/plain": [
              "((580, 30, 40, 3), (580, 2), (308, 30, 40, 3), (308, 2))"
            ]
          },
          "metadata": {},
          "execution_count": 17
        }
      ]
    },
    {
      "cell_type": "code",
      "source": [
        "from keras.models import Sequential, Model\n",
        "from keras import Input, Model\n",
        "from keras.optimizers import Adam\n",
        "from keras.layers import Dense, Dropout, Flatten, Conv2D, MaxPooling2D\n",
        "from keras.layers import BatchNormalization, LeakyReLU\n",
        "\n",
        "batch_size = 64\n",
        "epochs = 20\n",
        "classes = 2\n",
        "model = Sequential()\n",
        "\n",
        "#CNN\n",
        "model.add(Conv2D(32, kernel_size = (3,3), activation = 'linear',input_shape = (30,40,3), padding = 'same')) \n",
        "\n",
        "# nhan tich chap 32 lan\n",
        "model.add(LeakyReLU(alpha = 0.1))\n",
        "model.add(MaxPooling2D((2,2), padding = 'same'))\n",
        "model.add(Conv2D(64, (3,3), activation = 'linear', padding ='same'))\n",
        "model.add(LeakyReLU(alpha = 0.1))\n",
        "model.add(MaxPooling2D((2,2), padding = 'same'))\n",
        "model.add(Conv2D(128, (3,3), activation = 'linear', padding = 'same'))\n",
        "model.add(LeakyReLU(alpha = 0.1))\n",
        "model.add(MaxPooling2D((2,2), padding = 'same'))\n",
        "\n",
        "#Xây dựng mang noron(Lớp phẳng,lớp ẩn, đầu ra)\n",
        "model.add(Flatten())\n",
        "model.add(Dense(128, activation = 'linear'))\n",
        "model.add(LeakyReLU(alpha = 0.1))\n",
        "model.add(Dense(classes, activation ='softmax'))"
      ],
      "metadata": {
        "id": "bqxqXm65aqTA"
      },
      "execution_count": null,
      "outputs": []
    },
    {
      "cell_type": "code",
      "source": [
        "#compile\n",
        "model.compile(optimizer = Adam(), loss = 'categorical_crossentropy', metrics = ['accuracy'])\n",
        "model.summary()\n",
        "train = model.fit(photos_train, labels_train, batch_size = batch_size , epochs = epochs, verbose = 1)\n",
        "\n",
        "test_loss, test_acc = model.evaluate(photos_test, labels_test)\n",
        "print('do chinh xac', test_acc)\n",
        "print('ham mat mat', test_loss)"
      ],
      "metadata": {
        "colab": {
          "base_uri": "https://localhost:8080/"
        },
        "id": "yjJQv-iyatnI",
        "outputId": "b914208e-9de6-47e9-9329-35f4fc42bdd0"
      },
      "execution_count": null,
      "outputs": [
        {
          "output_type": "stream",
          "name": "stdout",
          "text": [
            "Model: \"sequential_2\"\n",
            "_________________________________________________________________\n",
            " Layer (type)                Output Shape              Param #   \n",
            "=================================================================\n",
            " conv2d_6 (Conv2D)           (None, 30, 40, 32)        896       \n",
            "                                                                 \n",
            " leaky_re_lu_8 (LeakyReLU)   (None, 30, 40, 32)        0         \n",
            "                                                                 \n",
            " max_pooling2d_6 (MaxPooling  (None, 15, 20, 32)       0         \n",
            " 2D)                                                             \n",
            "                                                                 \n",
            " conv2d_7 (Conv2D)           (None, 15, 20, 64)        18496     \n",
            "                                                                 \n",
            " leaky_re_lu_9 (LeakyReLU)   (None, 15, 20, 64)        0         \n",
            "                                                                 \n",
            " max_pooling2d_7 (MaxPooling  (None, 8, 10, 64)        0         \n",
            " 2D)                                                             \n",
            "                                                                 \n",
            " conv2d_8 (Conv2D)           (None, 8, 10, 128)        73856     \n",
            "                                                                 \n",
            " leaky_re_lu_10 (LeakyReLU)  (None, 8, 10, 128)        0         \n",
            "                                                                 \n",
            " max_pooling2d_8 (MaxPooling  (None, 4, 5, 128)        0         \n",
            " 2D)                                                             \n",
            "                                                                 \n",
            " flatten_2 (Flatten)         (None, 2560)              0         \n",
            "                                                                 \n",
            " dense_4 (Dense)             (None, 128)               327808    \n",
            "                                                                 \n",
            " leaky_re_lu_11 (LeakyReLU)  (None, 128)               0         \n",
            "                                                                 \n",
            " dense_5 (Dense)             (None, 2)                 258       \n",
            "                                                                 \n",
            "=================================================================\n",
            "Total params: 421,314\n",
            "Trainable params: 421,314\n",
            "Non-trainable params: 0\n",
            "_________________________________________________________________\n",
            "Epoch 1/20\n",
            "10/10 [==============================] - 1s 8ms/step - loss: 0.4130 - accuracy: 0.8121\n",
            "Epoch 2/20\n",
            "10/10 [==============================] - 0s 7ms/step - loss: 0.2661 - accuracy: 0.8966\n",
            "Epoch 3/20\n",
            "10/10 [==============================] - 0s 7ms/step - loss: 0.1959 - accuracy: 0.9569\n",
            "Epoch 4/20\n",
            "10/10 [==============================] - 0s 7ms/step - loss: 0.0498 - accuracy: 0.9983\n",
            "Epoch 5/20\n",
            "10/10 [==============================] - 0s 7ms/step - loss: 0.0121 - accuracy: 1.0000\n",
            "Epoch 6/20\n",
            "10/10 [==============================] - 0s 6ms/step - loss: 0.0052 - accuracy: 0.9983\n",
            "Epoch 7/20\n",
            "10/10 [==============================] - 0s 6ms/step - loss: 9.1496e-04 - accuracy: 1.0000\n",
            "Epoch 8/20\n",
            "10/10 [==============================] - 0s 6ms/step - loss: 2.7886e-04 - accuracy: 1.0000\n",
            "Epoch 9/20\n",
            "10/10 [==============================] - 0s 7ms/step - loss: 1.3650e-04 - accuracy: 1.0000\n",
            "Epoch 10/20\n",
            "10/10 [==============================] - 0s 6ms/step - loss: 1.3811e-04 - accuracy: 1.0000\n",
            "Epoch 11/20\n",
            "10/10 [==============================] - 0s 6ms/step - loss: 1.0185e-04 - accuracy: 1.0000\n",
            "Epoch 12/20\n",
            "10/10 [==============================] - 0s 7ms/step - loss: 8.0153e-05 - accuracy: 1.0000\n",
            "Epoch 13/20\n",
            "10/10 [==============================] - 0s 6ms/step - loss: 6.7982e-05 - accuracy: 1.0000\n",
            "Epoch 14/20\n",
            "10/10 [==============================] - 0s 6ms/step - loss: 6.4603e-05 - accuracy: 1.0000\n",
            "Epoch 15/20\n",
            "10/10 [==============================] - 0s 6ms/step - loss: 6.1325e-05 - accuracy: 1.0000\n",
            "Epoch 16/20\n",
            "10/10 [==============================] - 0s 5ms/step - loss: 5.6631e-05 - accuracy: 1.0000\n",
            "Epoch 17/20\n",
            "10/10 [==============================] - 0s 5ms/step - loss: 5.9150e-05 - accuracy: 1.0000\n",
            "Epoch 18/20\n",
            "10/10 [==============================] - 0s 5ms/step - loss: 5.4519e-05 - accuracy: 1.0000\n",
            "Epoch 19/20\n",
            "10/10 [==============================] - 0s 7ms/step - loss: 5.1920e-05 - accuracy: 1.0000\n",
            "Epoch 20/20\n",
            "10/10 [==============================] - 0s 5ms/step - loss: 4.2566e-05 - accuracy: 1.0000\n",
            "10/10 [==============================] - 0s 4ms/step - loss: 6.8418e-05 - accuracy: 1.0000\n",
            "do chinh xac 1.0\n",
            "ham mat mat 6.841809226898476e-05\n"
          ]
        }
      ]
    },
    {
      "cell_type": "code",
      "source": [
        "accuracy = train.history['accuracy']\n",
        "loss = train.history['loss']\n",
        "epochs = range(len(accuracy))\n",
        "plt.plot(epochs, accuracy, 'k', label = 'Train accuracy')\n",
        "plt.plot(epochs, loss, 'b', label = 'Train loss')\n",
        "plt.legend(['Train accuracy', 'Train loss'])\n",
        "plt.show()"
      ],
      "metadata": {
        "colab": {
          "base_uri": "https://localhost:8080/",
          "height": 430
        },
        "id": "-rDkaETaf8aS",
        "outputId": "baf10edb-3bac-4b56-a838-1bd673bfdf8c"
      },
      "execution_count": null,
      "outputs": [
        {
          "output_type": "display_data",
          "data": {
            "text/plain": [
              "<Figure size 640x480 with 1 Axes>"
            ],
            "image/png": "[encoded data removed]"
          },
          "metadata": {}
        }
      ]
    },
    {
      "cell_type": "code",
      "source": [
        "model.save('/content/drive/MyDrive/Mon AI/face.h5')"
      ],
      "metadata": {
        "id": "DWz-usbSgCVB"
      },
      "execution_count": null,
      "outputs": []
    },
    {
      "cell_type": "code",
      "source": [
        "class_name = {1: 'thang'}"
      ],
      "metadata": {
        "id": "MQNjxvdTgK7R"
      },
      "execution_count": null,
      "outputs": []
    },
    {
      "cell_type": "code",
      "source": [
        "#test\n",
        "filePath = '/content/drive/MyDrive/ANH AI/thang21.jpg'\n",
        "testImage = load_img(filePath, color_mode = 'rgb', target_size=(30,40))\n",
        "arrayImage = img_to_array(testImage).reshape(1,30,40,3)/255\n",
        "pred = np.argmax(model.predict(arrayImage))\n",
        "print(\"Predicted: \", class_name[pred])\n",
        "plt.imshow(testImage)"
      ],
      "metadata": {
        "colab": {
          "base_uri": "https://localhost:8080/",
          "height": 482
        },
        "id": "AulwymjBgfOJ",
        "outputId": "f9040c63-c463-4595-9210-037855f90741"
      },
      "execution_count": null,
      "outputs": [
        {
          "output_type": "stream",
          "name": "stdout",
          "text": [
            "1/1 [==============================] - 0s 31ms/step\n",
            "Predicted:  thang\n"
          ]
        },
        {
          "output_type": "execute_result",
          "data": {
            "text/plain": [
              "<matplotlib.image.AxesImage at 0x7f8d08218940>"
            ]
          },
          "metadata": {},
          "execution_count": 24
        },
        {
          "output_type": "display_data",
          "data": {
            "text/plain": [
              "<Figure size 640x480 with 1 Axes>"
            ],
            "image/png": "[encoded data removed]"
          },
          "metadata": {}
        }
      ]
    }
  ]
}