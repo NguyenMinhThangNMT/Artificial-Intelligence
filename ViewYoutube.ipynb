{
  "nbformat": 4,
  "nbformat_minor": 0,
  "metadata": {
    "colab": {
      "provenance": [],
      "mount_file_id": "1XcEGUKFpf-ROhMWL-IyaY3M7P6rV0XWy",
      "authorship_tag": "ABX9TyMcxVCk6PuBjAekSGxyJL16",
      "include_colab_link": true
    },
    "kernelspec": {
      "name": "python3",
      "display_name": "Python 3"
    },
    "language_info": {
      "name": "python"
    }
  },
  "cells": [
    {
      "cell_type": "markdown",
      "metadata": {
        "id": "view-in-github",
        "colab_type": "text"
      },
      "source": [
        "<a href=\"https://colab.research.google.com/github/NguyenMinhThangNMT/HomeWorks/blob/main/ViewYoutube.ipynb\" target=\"_parent\"><img src=\"https://colab.research.google.com/assets/colab-badge.svg\" alt=\"Open In Colab\"/></a>"
      ]
    },
    {
      "cell_type": "code",
      "execution_count": 24,
      "metadata": {
        "colab": {
          "base_uri": "https://localhost:8080/",
          "height": 130
        },
        "id": "u8f6MC1KZ2-X",
        "outputId": "5ebfb889-f410-49c7-f10c-4a70c6b2cf6c"
      },
      "outputs": [
        {
          "output_type": "error",
          "ename": "SyntaxError",
          "evalue": "ignored",
          "traceback": [
            "\u001b[0;36m  File \u001b[0;32m\"<ipython-input-24-4af81d5ef2d9>\"\u001b[0;36m, line \u001b[0;32m1\u001b[0m\n\u001b[0;31m    pip install youtube-search\u001b[0m\n\u001b[0m        ^\u001b[0m\n\u001b[0;31mSyntaxError\u001b[0m\u001b[0;31m:\u001b[0m invalid syntax\n"
          ]
        }
      ],
      "source": [
        "pip install youtube-search\n",
        "pip install openpyxl"
      ]
    },
    {
      "cell_type": "code",
      "source": [
        "from youtube_search import YoutubeSearch\n",
        "import webbrowser\n",
        "mysong=input(\"Nhap bai can tim\")\n",
        "result=YoutubeSearch(mysong,max_results=10).to_dict()\n",
        "print(result)"
      ],
      "metadata": {
        "colab": {
          "base_uri": "https://localhost:8080/"
        },
        "id": "srZeeipk9VMd",
        "outputId": "a569b5da-108d-4d70-e6a9-ba483ff96bdc"
      },
      "execution_count": 25,
      "outputs": [
        {
          "output_type": "stream",
          "name": "stdout",
          "text": [
            "Nhap bai can timHaru Haru\n",
            "[{'id': 'MzCbEdtNbJ0', 'thumbnails': ['https://i.ytimg.com/vi/MzCbEdtNbJ0/hq720.jpg?sqp=-oaymwEjCOgCEMoBSFryq4qpAxUIARUAAAAAGAElAADIQj0AgKJDeAE=&rs=AOn4CLA18i95RCKy78ngFltfSTvNQ2ZOvw', 'https://i.ytimg.com/vi/MzCbEdtNbJ0/hq720.jpg?sqp=-oaymwEXCNAFEJQDSFryq4qpAwkIARUAAIhCGAE=&rs=AOn4CLAs58B9icqgmcEQibhsPDqXqfEBJw'], 'title': 'BIGBANG - HARU HARU(하루하루) M/V', 'long_desc': None, 'channel': 'YG ENTERTAINMENT', 'duration': '5:24', 'views': '180,352,887 views', 'publish_time': '14 years ago', 'url_suffix': '/watch?v=MzCbEdtNbJ0&pp=ygUJSGFydSBIYXJ1'}, {'id': 'WtAuSC3lk14', 'thumbnails': ['https://i.ytimg.com/vi/WtAuSC3lk14/hq720.jpg?sqp=-oaymwE9COgCEMoBSFryq4qpAy8IARUAAAAAGAElAADIQj0AgKJDeAHwAQH4Af4JgALQBYoCDAgAEAEYZSBfKFgwDw==&rs=AOn4CLBAdBokP2IMJ50C0ddfXe1-YLiuYw', 'https://i.ytimg.com/vi/WtAuSC3lk14/hq720.jpg?sqp=-oaymwExCNAFEJQDSFryq4qpAyMIARUAAIhCGAHwAQH4Af4JgALQBYoCDAgAEAEYZSBfKFgwDw==&rs=AOn4CLD914fF3oLHim3BCHoeAJC8WI35fg'], 'title': 'Big Bang - Haru Haru (하루 하루) [Hangul/Romanization/English] Color & Picture Coded HD', 'long_desc': None, 'channel': 'kimoi212000', 'duration': '4:14', 'views': '10,658,687 views', 'publish_time': '8 years ago', 'url_suffix': '/watch?v=WtAuSC3lk14&pp=ygUJSGFydSBIYXJ1'}, {'id': 'I45roqYzAMo', 'thumbnails': ['https://i.ytimg.com/vi/I45roqYzAMo/hq720.jpg?sqp=-oaymwEjCOgCEMoBSFryq4qpAxUIARUAAAAAGAElAADIQj0AgKJDeAE=&rs=AOn4CLAPUSUR-hGYAF5YPlZMmysPt4Hc0Q', 'https://i.ytimg.com/vi/I45roqYzAMo/hq720.jpg?sqp=-oaymwEXCNAFEJQDSFryq4qpAwkIARUAAIhCGAE=&rs=AOn4CLDqU5_IsrFfwueeceAvgDH9NHhCEA'], 'title': 'Casting Haruan | HARUAN SEDANG KELAPARAN DIHIDANG MAKANAN | FISHBAND HIGH SPEED | Vlog356', 'long_desc': None, 'channel': 'Kuyie haru haru Fishing', 'duration': '13:29', 'views': '3,299 views', 'publish_time': '18 hours ago', 'url_suffix': '/watch?v=I45roqYzAMo&pp=ygUJSGFydSBIYXJ1'}, {'id': '5T-xG81O0oU', 'thumbnails': ['https://i.ytimg.com/vi/5T-xG81O0oU/hq720.jpg?sqp=-oaymwEjCOgCEMoBSFryq4qpAxUIARUAAAAAGAElAADIQj0AgKJDeAE=&rs=AOn4CLAxdQrNea2dgdzr2DECXcAd9ExAzg', 'https://i.ytimg.com/vi/5T-xG81O0oU/hq720.jpg?sqp=-oaymwEXCNAFEJQDSFryq4qpAwkIARUAAIhCGAE=&rs=AOn4CLAtiQZftrUGMkcufEbc-Y2-qG9saQ'], 'title': 'Vandebo x Anir - Haru Haru (Official Video)', 'long_desc': None, 'channel': 'Monstar TV', 'duration': '3:40', 'views': '7,633,119 views', 'publish_time': '2 years ago', 'url_suffix': '/watch?v=5T-xG81O0oU&pp=ygUJSGFydSBIYXJ1'}, {'id': '-jsYZ4V60XI', 'thumbnails': ['https://i.ytimg.com/vi/-jsYZ4V60XI/hq720.jpg?sqp=-oaymwEjCOgCEMoBSFryq4qpAxUIARUAAAAAGAElAADIQj0AgKJDeAE=&rs=AOn4CLD1kwFSZhw2VW6URUTgWQ6TrAtsrg', 'https://i.ytimg.com/vi/-jsYZ4V60XI/hq720.jpg?sqp=-oaymwEXCNAFEJQDSFryq4qpAwkIARUAAIhCGAE=&rs=AOn4CLAQAflUM25bIqNT7GBdehY5kkyA5Q'], 'title': 'Bigbang - Haru Haru, 빅뱅 - 하루 하루, Music Core 20080906', 'long_desc': None, 'channel': 'MBCkpop', 'duration': '4:00', 'views': '6,222,683 views', 'publish_time': '11 years ago', 'url_suffix': '/watch?v=-jsYZ4V60XI&pp=ygUJSGFydSBIYXJ1'}, {'id': '8OAQ6RuYFGE', 'thumbnails': ['https://i.ytimg.com/vi/8OAQ6RuYFGE/hq720.jpg?sqp=-oaymwEjCOgCEMoBSFryq4qpAxUIARUAAAAAGAElAADIQj0AgKJDeAE=&rs=AOn4CLCwxC239lVuusHo0pjSQZVojnOEqw', 'https://i.ytimg.com/vi/8OAQ6RuYFGE/hq720.jpg?sqp=-oaymwEXCNAFEJQDSFryq4qpAwkIARUAAIhCGAE=&rs=AOn4CLBZtAEHF0qmhHU4D__XkEXw5_rE-A'], 'title': 'BIGBANG - 하루하루(HARU HARU) M/V', 'long_desc': None, 'channel': 'BIGBANG', 'duration': '5:24', 'views': '23,997,356 views', 'publish_time': '13 years ago', 'url_suffix': '/watch?v=8OAQ6RuYFGE&pp=ygUJSGFydSBIYXJ1'}, {'id': 'b9tgDfuOnd0', 'thumbnails': ['https://i.ytimg.com/vi/b9tgDfuOnd0/hq720.jpg?sqp=-oaymwEjCOgCEMoBSFryq4qpAxUIARUAAAAAGAElAADIQj0AgKJDeAE=&rs=AOn4CLD6dD6PviQDGr-GdYGScCNbTslGZQ', 'https://i.ytimg.com/vi/b9tgDfuOnd0/hq720.jpg?sqp=-oaymwEXCNAFEJQDSFryq4qpAwkIARUAAIhCGAE=&rs=AOn4CLCpQ8keEehZGTxf_-5rqy0F_26pNw'], 'title': '하루하루 (Haru Haru) (Acoustic Version)', 'long_desc': None, 'channel': 'BIGBANG', 'duration': '4:26', 'views': '673,107 views', 'publish_time': 0, 'url_suffix': '/watch?v=b9tgDfuOnd0&pp=ygUJSGFydSBIYXJ1'}, {'id': 'ifsnNVebVpQ', 'thumbnails': ['https://i.ytimg.com/vi/ifsnNVebVpQ/hq720.jpg?sqp=-oaymwEjCOgCEMoBSFryq4qpAxUIARUAAAAAGAElAADIQj0AgKJDeAE=&rs=AOn4CLBjsnJNxxCMriCq1gm2fjFH-NOaDw', 'https://i.ytimg.com/vi/ifsnNVebVpQ/hq720.jpg?sqp=-oaymwEXCNAFEJQDSFryq4qpAwkIARUAAIhCGAE=&rs=AOn4CLCpRsTmYFrcJ1V5WHfzsog8MkIJKw'], 'title': 'BIGBANG LIVE HARU HARU IN JAPAN', 'long_desc': None, 'channel': 'Danila Irineu', 'duration': '4:37', 'views': '1,849,259 views', 'publish_time': '4 years ago', 'url_suffix': '/watch?v=ifsnNVebVpQ&pp=ygUJSGFydSBIYXJ1'}, {'id': 'BIULOLtXgpQ', 'thumbnails': ['https://i.ytimg.com/vi/BIULOLtXgpQ/hqdefault.jpg?sqp=-oaymwEjCOADEI4CSFryq4qpAxUIARUAAAAAGAElAADIQj0AgKJDeAE=&rs=AOn4CLAshq1nzpBoXHz2XhcWTn7ERSUL8w'], 'title': 'Big Bang - Haru Haru [HQ audio]', 'long_desc': None, 'channel': 'rorikinz', 'duration': '4:16', 'views': '891,895 views', 'publish_time': '14 years ago', 'url_suffix': '/watch?v=BIULOLtXgpQ&pp=ygUJSGFydSBIYXJ1'}, {'id': 'ttfKG5DZ0so', 'thumbnails': ['https://i.ytimg.com/vi/ttfKG5DZ0so/hq720.jpg?sqp=-oaymwEjCOgCEMoBSFryq4qpAxUIARUAAAAAGAElAADIQj0AgKJDeAE=&rs=AOn4CLDnAChOza96agElAc2o5J_VHiWTfg', 'https://i.ytimg.com/vi/ttfKG5DZ0so/hq720.jpg?sqp=-oaymwEXCNAFEJQDSFryq4qpAwkIARUAAIhCGAE=&rs=AOn4CLCsb0TaKcdHgngCqZaCzszc8vNVhQ'], 'title': 'Big Bang - Haru Haru (Acoustic Version) 1 Hour Loop', 'long_desc': None, 'channel': 'Jhalci Acuña', 'duration': '1:02:56', 'views': '7,183 views', 'publish_time': '2 years ago', 'url_suffix': '/watch?v=ttfKG5DZ0so&pp=ygUJSGFydSBIYXJ1'}]\n"
          ]
        }
      ]
    },
    {
      "cell_type": "code",
      "source": [
        "for i in range (0,10):\n",
        "  url='http://www.youtube.com'+result[i][\"url_suffix\"]\n",
        "  print(url)\n",
        "webbrowser(url)"
      ],
      "metadata": {
        "colab": {
          "base_uri": "https://localhost:8080/",
          "height": 373
        },
        "id": "o5hsqtFF-TH_",
        "outputId": "b6c1fcb0-ae43-4dad-e811-5f32411c2615"
      },
      "execution_count": 27,
      "outputs": [
        {
          "output_type": "stream",
          "name": "stdout",
          "text": [
            "http://www.youtube.com/watch?v=MzCbEdtNbJ0&pp=ygUJSGFydSBIYXJ1\n",
            "http://www.youtube.com/watch?v=WtAuSC3lk14&pp=ygUJSGFydSBIYXJ1\n",
            "http://www.youtube.com/watch?v=I45roqYzAMo&pp=ygUJSGFydSBIYXJ1\n",
            "http://www.youtube.com/watch?v=5T-xG81O0oU&pp=ygUJSGFydSBIYXJ1\n",
            "http://www.youtube.com/watch?v=-jsYZ4V60XI&pp=ygUJSGFydSBIYXJ1\n",
            "http://www.youtube.com/watch?v=8OAQ6RuYFGE&pp=ygUJSGFydSBIYXJ1\n",
            "http://www.youtube.com/watch?v=b9tgDfuOnd0&pp=ygUJSGFydSBIYXJ1\n",
            "http://www.youtube.com/watch?v=ifsnNVebVpQ&pp=ygUJSGFydSBIYXJ1\n",
            "http://www.youtube.com/watch?v=BIULOLtXgpQ&pp=ygUJSGFydSBIYXJ1\n",
            "http://www.youtube.com/watch?v=ttfKG5DZ0so&pp=ygUJSGFydSBIYXJ1\n"
          ]
        },
        {
          "output_type": "error",
          "ename": "TypeError",
          "evalue": "ignored",
          "traceback": [
            "\u001b[0;31m---------------------------------------------------------------------------\u001b[0m",
            "\u001b[0;31mTypeError\u001b[0m                                 Traceback (most recent call last)",
            "\u001b[0;32m<ipython-input-27-ae0fd2fabbfc>\u001b[0m in \u001b[0;36m<cell line: 4>\u001b[0;34m()\u001b[0m\n\u001b[1;32m      2\u001b[0m   \u001b[0murl\u001b[0m\u001b[0;34m=\u001b[0m\u001b[0;34m'http://www.youtube.com'\u001b[0m\u001b[0;34m+\u001b[0m\u001b[0mresult\u001b[0m\u001b[0;34m[\u001b[0m\u001b[0mi\u001b[0m\u001b[0;34m]\u001b[0m\u001b[0;34m[\u001b[0m\u001b[0;34m\"url_suffix\"\u001b[0m\u001b[0;34m]\u001b[0m\u001b[0;34m\u001b[0m\u001b[0;34m\u001b[0m\u001b[0m\n\u001b[1;32m      3\u001b[0m   \u001b[0mprint\u001b[0m\u001b[0;34m(\u001b[0m\u001b[0murl\u001b[0m\u001b[0;34m)\u001b[0m\u001b[0;34m\u001b[0m\u001b[0;34m\u001b[0m\u001b[0m\n\u001b[0;32m----> 4\u001b[0;31m \u001b[0mwebbrowser\u001b[0m\u001b[0;34m(\u001b[0m\u001b[0murl\u001b[0m\u001b[0;34m)\u001b[0m\u001b[0;34m\u001b[0m\u001b[0;34m\u001b[0m\u001b[0m\n\u001b[0m",
            "\u001b[0;31mTypeError\u001b[0m: 'module' object is not callable"
          ]
        }
      ]
    },
    {
      "cell_type": "code",
      "source": [
        "pip install openpyxl\n"
      ],
      "metadata": {
        "colab": {
          "base_uri": "https://localhost:8080/"
        },
        "id": "OOC3nLbtAKXO",
        "outputId": "b9842bdb-632b-49f4-be1d-fef5dec5621d"
      },
      "execution_count": 28,
      "outputs": [
        {
          "output_type": "stream",
          "name": "stdout",
          "text": [
            "Looking in indexes: https://pypi.org/simple, https://us-python.pkg.dev/colab-wheels/public/simple/\n",
            "Requirement already satisfied: openpyxl in /usr/local/lib/python3.9/dist-packages (3.0.10)\n",
            "Requirement already satisfied: et-xmlfile in /usr/local/lib/python3.9/dist-packages (from openpyxl) (1.1.0)\n"
          ]
        }
      ]
    },
    {
      "cell_type": "code",
      "source": [
        "from openpyxl import Workbook"
      ],
      "metadata": {
        "id": "1G_vl7-1Avdn"
      },
      "execution_count": 29,
      "outputs": []
    },
    {
      "cell_type": "code",
      "source": [
        "data=Workbook()\n",
        "sheet=data.active\n",
        "for i in range(10):\n",
        "  print(result[i]['title'])\n",
        "  print(result[i]['url_suffix'])\n",
        "  url='http://www.youtube.com'+result[i]['url_suffix']\n",
        "  print(url)\n",
        "  sheet['A'+str(i+1)]=i+1\n",
        "  sheet['B'+str(i+1)]=result[i]['title']\n",
        "  sheet['C'+str(i+1)]=result[i]['url_suffix']\n",
        "  sheet['D'+str(i+1)]=result[i]['views']\n",
        "  sheet['E'+str(i+1)]=result[i]['channel']\n",
        " \n",
        "data.save('/content/drive/MyDrive/Mon AI/haruharu.xls')"
      ],
      "metadata": {
        "colab": {
          "base_uri": "https://localhost:8080/"
        },
        "id": "NnfsD9EAA69d",
        "outputId": "1228c900-7604-48ac-f970-0fff9baeeed4"
      },
      "execution_count": 42,
      "outputs": [
        {
          "output_type": "stream",
          "name": "stdout",
          "text": [
            "BIGBANG - HARU HARU(하루하루) M/V\n",
            "/watch?v=MzCbEdtNbJ0&pp=ygUJSGFydSBIYXJ1\n",
            "http://www.youtube.com/watch?v=MzCbEdtNbJ0&pp=ygUJSGFydSBIYXJ1\n",
            "Big Bang - Haru Haru (하루 하루) [Hangul/Romanization/English] Color & Picture Coded HD\n",
            "/watch?v=WtAuSC3lk14&pp=ygUJSGFydSBIYXJ1\n",
            "http://www.youtube.com/watch?v=WtAuSC3lk14&pp=ygUJSGFydSBIYXJ1\n",
            "Casting Haruan | HARUAN SEDANG KELAPARAN DIHIDANG MAKANAN | FISHBAND HIGH SPEED | Vlog356\n",
            "/watch?v=I45roqYzAMo&pp=ygUJSGFydSBIYXJ1\n",
            "http://www.youtube.com/watch?v=I45roqYzAMo&pp=ygUJSGFydSBIYXJ1\n",
            "Vandebo x Anir - Haru Haru (Official Video)\n",
            "/watch?v=5T-xG81O0oU&pp=ygUJSGFydSBIYXJ1\n",
            "http://www.youtube.com/watch?v=5T-xG81O0oU&pp=ygUJSGFydSBIYXJ1\n",
            "Bigbang - Haru Haru, 빅뱅 - 하루 하루, Music Core 20080906\n",
            "/watch?v=-jsYZ4V60XI&pp=ygUJSGFydSBIYXJ1\n",
            "http://www.youtube.com/watch?v=-jsYZ4V60XI&pp=ygUJSGFydSBIYXJ1\n",
            "BIGBANG - 하루하루(HARU HARU) M/V\n",
            "/watch?v=8OAQ6RuYFGE&pp=ygUJSGFydSBIYXJ1\n",
            "http://www.youtube.com/watch?v=8OAQ6RuYFGE&pp=ygUJSGFydSBIYXJ1\n",
            "하루하루 (Haru Haru) (Acoustic Version)\n",
            "/watch?v=b9tgDfuOnd0&pp=ygUJSGFydSBIYXJ1\n",
            "http://www.youtube.com/watch?v=b9tgDfuOnd0&pp=ygUJSGFydSBIYXJ1\n",
            "BIGBANG LIVE HARU HARU IN JAPAN\n",
            "/watch?v=ifsnNVebVpQ&pp=ygUJSGFydSBIYXJ1\n",
            "http://www.youtube.com/watch?v=ifsnNVebVpQ&pp=ygUJSGFydSBIYXJ1\n",
            "Big Bang - Haru Haru [HQ audio]\n",
            "/watch?v=BIULOLtXgpQ&pp=ygUJSGFydSBIYXJ1\n",
            "http://www.youtube.com/watch?v=BIULOLtXgpQ&pp=ygUJSGFydSBIYXJ1\n",
            "Big Bang - Haru Haru (Acoustic Version) 1 Hour Loop\n",
            "/watch?v=ttfKG5DZ0so&pp=ygUJSGFydSBIYXJ1\n",
            "http://www.youtube.com/watch?v=ttfKG5DZ0so&pp=ygUJSGFydSBIYXJ1\n"
          ]
        }
      ]
    }
  ]
}