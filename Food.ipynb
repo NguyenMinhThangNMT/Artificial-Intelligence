{
  "nbformat": 4,
  "nbformat_minor": 0,
  "metadata": {
    "colab": {
      "provenance": [],
      "gpuType": "T4",
      "mount_file_id": "1w11GG2iYJ_smtmt63hhMCwUjLQA0cDCP",
      "authorship_tag": "ABX9TyO68Qna12qcasX5nOzKlYB9",
      "include_colab_link": true
    },
    "kernelspec": {
      "name": "python3",
      "display_name": "Python 3"
    },
    "language_info": {
      "name": "python"
    },
    "accelerator": "GPU",
    "gpuClass": "standard"
  },
  "cells": [
    {
      "cell_type": "markdown",
      "metadata": {
        "id": "view-in-github",
        "colab_type": "text"
      },
      "source": [
        "<a href=\"https://colab.research.google.com/github/NguyenMinhThangNMT/HomeWorks/blob/main/Food.ipynb\" target=\"_parent\"><img src=\"https://colab.research.google.com/assets/colab-badge.svg\" alt=\"Open In Colab\"/></a>"
      ]
    },
    {
      "cell_type": "code",
      "execution_count": null,
      "metadata": {
        "id": "2rSM3gy6jfMK",
        "colab": {
          "base_uri": "https://localhost:8080/"
        },
        "outputId": "eb968e4c-d632-424a-c5e9-d2f7c7908689"
      },
      "outputs": [
        {
          "output_type": "stream",
          "name": "stdout",
          "text": [
            "Drive already mounted at /content/drive; to attempt to forcibly remount, call drive.mount(\"/content/drive\", force_remount=True).\n"
          ]
        }
      ],
      "source": [
        "from google.colab import drive\n",
        "drive.mount('/content/drive')"
      ]
    },
    {
      "cell_type": "code",
      "source": [
        "from os import listdir\n",
        "from numpy import asarray,save\n",
        "from keras.utils import load_img, img_to_array"
      ],
      "metadata": {
        "id": "uB-0DFb8j5hZ"
      },
      "execution_count": null,
      "outputs": []
    },
    {
      "cell_type": "code",
      "source": [
        "#Xử lí dữ liệu Train\n",
        "folder = '/content/drive/MyDrive/ANH AI/Food/Train/'\n",
        "\n",
        "photos, labels = list(), list()\n",
        "for file in listdir(folder) :\n",
        "  output = 0.0\n",
        "  if file.startswith('Com_suon_'):\n",
        "    output = 1.0\n",
        "  if file.startswith('Banh_mi_'):\n",
        "    output = 2.0\n",
        "  if file.startswith('Hu_tieu_'):\n",
        "    output = 3.0\n",
        "  if file.startswith('Bun_thit_'):\n",
        "    output = 4.0\n",
        "  if file.startswith('Banh_xeo_'):\n",
        "    output = 5.0\n",
        "\n",
        "  photo = load_img(folder + file, target_size = (30,40))\n",
        "  photo = img_to_array(photo)\n",
        "  photos.append(photo)\n",
        "  labels.append(output)\n",
        "photos_train = asarray(photos)\n",
        "labels_train = asarray(labels)\n",
        "print(photos_train.shape, labels_train.shape)\n",
        "\n",
        "\n",
        "save('/content/drive/MyDrive/ANH AI/Flower/Train/Food_photo.npy',photos_train)\n",
        "save('/content/drive/MyDrive/ANH AI/Flower/Train/Food_label.npy',labels_train)"
      ],
      "metadata": {
        "colab": {
          "base_uri": "https://localhost:8080/"
        },
        "id": "QyVEb3s5j85_",
        "outputId": "2bd61415-7896-4c36-8796-0780daf077d6"
      },
      "execution_count": null,
      "outputs": [
        {
          "output_type": "stream",
          "name": "stdout",
          "text": [
            "(24, 30, 40, 3) (24,)\n"
          ]
        }
      ]
    },
    {
      "cell_type": "code",
      "source": [
        "#Xử lí dữ liệu Test\n",
        "folder = '/content/drive/MyDrive/ANH AI/Food/Test/'\n",
        "photos, labels = list(), list()\n",
        "for file in listdir(folder) :\n",
        "  output = 0.0\n",
        "  if file.startswith('Com_suon_'):\n",
        "    output = 1.0\n",
        "  if file.startswith('Banh_mi_'):\n",
        "    output = 2.0\n",
        "  if file.startswith('Hu_tieu_'):\n",
        "    output = 3.0\n",
        "  if file.startswith('Bun_thit_'):\n",
        "    output = 4.0\n",
        "  if file.startswith('Banh_xeo_'):\n",
        "    output = 5.0\n",
        " \n",
        "  photo = load_img(folder + file, target_size = (30,40))\n",
        "  photo = img_to_array(photo)\n",
        "  photos.append(photo)\n",
        "  labels.append(output)\n",
        "photos_test = asarray(photos)\n",
        "labels_test = asarray(labels)\n",
        "print(photos_test.shape, labels_test.shape)\n",
        "save('/content/drive/MyDrive/Mon AI/Food_photo_test.npy',photos_test)\n",
        "save('/content/drive/MyDrive/Mon AI/Food_photo_test.npy',labels_test)"
      ],
      "metadata": {
        "colab": {
          "base_uri": "https://localhost:8080/"
        },
        "id": "CTY1vYhRV1U8",
        "outputId": "acaaeb9d-a646-43bf-9562-8852c3562f83"
      },
      "execution_count": null,
      "outputs": [
        {
          "output_type": "stream",
          "name": "stdout",
          "text": [
            "(15, 30, 40, 3) (15,)\n"
          ]
        }
      ]
    },
    {
      "cell_type": "code",
      "source": [
        "import matplotlib.pyplot as plt\n",
        "import numpy as np\n",
        "chosen_idx = 8\n",
        "chosen_img = photos_train[chosen_idx]\n",
        "plt.imshow((chosen_img*255).astype(np.uint8))\n",
        "plt.show()"
      ],
      "metadata": {
        "colab": {
          "base_uri": "https://localhost:8080/",
          "height": 430
        },
        "id": "IvdutYiNZkno",
        "outputId": "baf0368b-f4d0-445f-d1cf-37cd97104131"
      },
      "execution_count": null,
      "outputs": [
        {
          "output_type": "display_data",
          "data": {
            "text/plain": [
              "<Figure size 640x480 with 1 Axes>"
            ],
            "image/png": "[encoded data removed]"
          },
          "metadata": {}
        }
      ]
    },
    {
      "cell_type": "code",
      "source": [
        "#In các phần tửtử\n",
        "print('số ảnh dùng để train:',len(photos_train))\n",
        "print('số ảnh dùng để tét:',len(photos_test))\n",
        "print('Kích cỡ ảnh trailen',(photos_train.shape))\n",
        "print('Kích cỡ ảnh label:',labels_train.shape)\n",
        "print('Kích cỡ ảnh test:',photos_test.shape)\n",
        "print('Kích cỡ ảnh test_label:',labels_test.shape)"
      ],
      "metadata": {
        "colab": {
          "base_uri": "https://localhost:8080/"
        },
        "id": "caCu_S0MaCCg",
        "outputId": "6f867c94-bb9f-488c-d2a9-d8d7dd846956"
      },
      "execution_count": null,
      "outputs": [
        {
          "output_type": "stream",
          "name": "stdout",
          "text": [
            "số ảnh dùng để train: 24\n",
            "số ảnh dùng để tét: 15\n",
            "Kích cỡ ảnh trailen (24, 30, 40, 3)\n",
            "Kích cỡ ảnh label: (24,)\n",
            "Kích cỡ ảnh test: (15, 30, 40, 3)\n",
            "Kích cỡ ảnh test_label: (15,)\n"
          ]
        }
      ]
    },
    {
      "cell_type": "code",
      "source": [
        "photos_train = photos_train.reshape(24, 30, 40, 3)\n",
        "photos_train = photos_train.astype('float32')/255 \n",
        "photos_test = photos_test.reshape(15, 30, 40, 3)\n",
        "photos_test = photos_test.astype('float32')/255\n",
        "\n",
        "from keras.utils import  to_categorical\n",
        "labels_train = to_categorical(labels_train)\n",
        "labels_test = to_categorical(labels_test)\n",
        "photos_train.shape, labels_train.shape, photos_test.shape, labels_test.shape"
      ],
      "metadata": {
        "colab": {
          "base_uri": "https://localhost:8080/"
        },
        "id": "F5n1NO2vagNx",
        "outputId": "095bdd04-183f-4880-e1cb-3693bab4a5b8"
      },
      "execution_count": null,
      "outputs": [
        {
          "output_type": "execute_result",
          "data": {
            "text/plain": [
              "((24, 30, 40, 3), (24, 6), (15, 30, 40, 3), (15, 6))"
            ]
          },
          "metadata": {},
          "execution_count": 62
        }
      ]
    },
    {
      "cell_type": "code",
      "source": [
        "from keras.models import Sequential, Model\n",
        "from keras import Input, Model\n",
        "from keras.optimizers import Adam\n",
        "from keras.layers import Dense, Dropout, Flatten, Conv2D, MaxPooling2D\n",
        "from keras.layers import BatchNormalization, LeakyReLU\n",
        "\n",
        "batch_size = 64\n",
        "epochs = 20\n",
        "classes = 6\n",
        "model = Sequential()\n",
        "\n",
        "#CNN\n",
        "model.add(Conv2D(32, kernel_size = (3,3), activation = 'linear',input_shape = (30,40,3), padding = 'same')) \n",
        "\n",
        "# nhan tich chap 32 lan\n",
        "model.add(LeakyReLU(alpha = 0.1))\n",
        "model.add(MaxPooling2D((2,2), padding = 'same'))\n",
        "model.add(Conv2D(64, (3,3), activation = 'linear', padding ='same'))\n",
        "model.add(LeakyReLU(alpha = 0.1))\n",
        "model.add(MaxPooling2D((2,2), padding = 'same'))\n",
        "model.add(Conv2D(128, (3,3), activation = 'linear', padding = 'same'))\n",
        "model.add(LeakyReLU(alpha = 0.1))\n",
        "model.add(MaxPooling2D((2,2), padding = 'same'))\n",
        "\n",
        "#Xây dựng mang noron(Lớp phẳng,lớp ẩn, đầu ra)\n",
        "model.add(Flatten())\n",
        "model.add(Dense(128, activation = 'linear'))\n",
        "model.add(LeakyReLU(alpha = 0.1))\n",
        "model.add(Dense(classes, activation ='softmax'))"
      ],
      "metadata": {
        "id": "bqxqXm65aqTA"
      },
      "execution_count": null,
      "outputs": []
    },
    {
      "cell_type": "code",
      "source": [
        "#compile\n",
        "model.compile(optimizer = Adam(), loss = 'categorical_crossentropy', metrics = ['accuracy'])\n",
        "model.summary()\n",
        "train = model.fit(photos_train, labels_train, batch_size = batch_size , epochs = epochs, verbose = 1)\n",
        "\n",
        "test_loss, test_acc = model.evaluate(photos_test, labels_test)\n",
        "print('do chinh xac', test_acc)\n",
        "print('ham mat mat', test_loss)"
      ],
      "metadata": {
        "colab": {
          "base_uri": "https://localhost:8080/"
        },
        "id": "yjJQv-iyatnI",
        "outputId": "38712a27-164e-471f-e8c1-d55731e3a412"
      },
      "execution_count": null,
      "outputs": [
        {
          "output_type": "stream",
          "name": "stdout",
          "text": [
            "Model: \"sequential_2\"\n",
            "_________________________________________________________________\n",
            " Layer (type)                Output Shape              Param #   \n",
            "=================================================================\n",
            " conv2d_6 (Conv2D)           (None, 30, 40, 32)        896       \n",
            "                                                                 \n",
            " leaky_re_lu_8 (LeakyReLU)   (None, 30, 40, 32)        0         \n",
            "                                                                 \n",
            " max_pooling2d_6 (MaxPooling  (None, 15, 20, 32)       0         \n",
            " 2D)                                                             \n",
            "                                                                 \n",
            " conv2d_7 (Conv2D)           (None, 15, 20, 64)        18496     \n",
            "                                                                 \n",
            " leaky_re_lu_9 (LeakyReLU)   (None, 15, 20, 64)        0         \n",
            "                                                                 \n",
            " max_pooling2d_7 (MaxPooling  (None, 8, 10, 64)        0         \n",
            " 2D)                                                             \n",
            "                                                                 \n",
            " conv2d_8 (Conv2D)           (None, 8, 10, 128)        73856     \n",
            "                                                                 \n",
            " leaky_re_lu_10 (LeakyReLU)  (None, 8, 10, 128)        0         \n",
            "                                                                 \n",
            " max_pooling2d_8 (MaxPooling  (None, 4, 5, 128)        0         \n",
            " 2D)                                                             \n",
            "                                                                 \n",
            " flatten_2 (Flatten)         (None, 2560)              0         \n",
            "                                                                 \n",
            " dense_4 (Dense)             (None, 128)               327808    \n",
            "                                                                 \n",
            " leaky_re_lu_11 (LeakyReLU)  (None, 128)               0         \n",
            "                                                                 \n",
            " dense_5 (Dense)             (None, 6)                 774       \n",
            "                                                                 \n",
            "=================================================================\n",
            "Total params: 421,830\n",
            "Trainable params: 421,830\n",
            "Non-trainable params: 0\n",
            "_________________________________________________________________\n",
            "Epoch 1/20\n",
            "1/1 [==============================] - 1s 710ms/step - loss: 1.7851 - accuracy: 0.2083\n",
            "Epoch 2/20\n",
            "1/1 [==============================] - 0s 14ms/step - loss: 1.6205 - accuracy: 0.2500\n",
            "Epoch 3/20\n",
            "1/1 [==============================] - 0s 13ms/step - loss: 1.5388 - accuracy: 0.3333\n",
            "Epoch 4/20\n",
            "1/1 [==============================] - 0s 16ms/step - loss: 1.4496 - accuracy: 0.5833\n",
            "Epoch 5/20\n",
            "1/1 [==============================] - 0s 18ms/step - loss: 1.3610 - accuracy: 0.7500\n",
            "Epoch 6/20\n",
            "1/1 [==============================] - 0s 14ms/step - loss: 1.2468 - accuracy: 0.6250\n",
            "Epoch 7/20\n",
            "1/1 [==============================] - 0s 12ms/step - loss: 1.1741 - accuracy: 0.6667\n",
            "Epoch 8/20\n",
            "1/1 [==============================] - 0s 15ms/step - loss: 1.1629 - accuracy: 0.6250\n",
            "Epoch 9/20\n",
            "1/1 [==============================] - 0s 14ms/step - loss: 0.9875 - accuracy: 0.5833\n",
            "Epoch 10/20\n",
            "1/1 [==============================] - 0s 20ms/step - loss: 0.9068 - accuracy: 0.7917\n",
            "Epoch 11/20\n",
            "1/1 [==============================] - 0s 14ms/step - loss: 0.8068 - accuracy: 0.7083\n",
            "Epoch 12/20\n",
            "1/1 [==============================] - 0s 15ms/step - loss: 0.6476 - accuracy: 0.9583\n",
            "Epoch 13/20\n",
            "1/1 [==============================] - 0s 15ms/step - loss: 0.6856 - accuracy: 0.7500\n",
            "Epoch 14/20\n",
            "1/1 [==============================] - 0s 16ms/step - loss: 0.5025 - accuracy: 0.8333\n",
            "Epoch 15/20\n",
            "1/1 [==============================] - 0s 13ms/step - loss: 0.5040 - accuracy: 0.9167\n",
            "Epoch 16/20\n",
            "1/1 [==============================] - 0s 17ms/step - loss: 0.4065 - accuracy: 0.9167\n",
            "Epoch 17/20\n",
            "1/1 [==============================] - 0s 16ms/step - loss: 0.3205 - accuracy: 0.9583\n",
            "Epoch 18/20\n",
            "1/1 [==============================] - 0s 13ms/step - loss: 0.3262 - accuracy: 0.9583\n",
            "Epoch 19/20\n",
            "1/1 [==============================] - 0s 12ms/step - loss: 0.2473 - accuracy: 0.9167\n",
            "Epoch 20/20\n",
            "1/1 [==============================] - 0s 14ms/step - loss: 0.2195 - accuracy: 0.9167\n",
            "1/1 [==============================] - 0s 240ms/step - loss: 0.1875 - accuracy: 0.9333\n",
            "do chinh xac 0.9333333373069763\n",
            "ham mat mat 0.18750827014446259\n"
          ]
        }
      ]
    },
    {
      "cell_type": "code",
      "source": [
        "accuracy = train.history['accuracy']\n",
        "loss = train.history['loss']\n",
        "epochs = range(len(accuracy))\n",
        "plt.plot(epochs, accuracy, 'k', label = 'Train accuracy')\n",
        "plt.plot(epochs, loss, 'b', label = 'Train loss')\n",
        "plt.legend(['Train accuracy', 'Train loss'])\n",
        "plt.show()"
      ],
      "metadata": {
        "colab": {
          "base_uri": "https://localhost:8080/",
          "height": 430
        },
        "id": "-rDkaETaf8aS",
        "outputId": "8b43767a-1e10-42e4-962b-b95f00a5658a"
      },
      "execution_count": null,
      "outputs": [
        {
          "output_type": "display_data",
          "data": {
            "text/plain": [
              "<Figure size 640x480 with 1 Axes>"
            ],
            "image/png": "[encoded data removed]"
          },
          "metadata": {}
        }
      ]
    },
    {
      "cell_type": "code",
      "source": [
        "model.save('/content/drive/MyDrive/Mon AI/food.h5')"
      ],
      "metadata": {
        "id": "DWz-usbSgCVB"
      },
      "execution_count": null,
      "outputs": []
    },
    {
      "cell_type": "code",
      "source": [
        "class_name = {1: 'com suon',2:'banh mi',3:'hu tieu',4:'bun thit nuong',5:'banh xeo'}"
      ],
      "metadata": {
        "id": "MQNjxvdTgK7R"
      },
      "execution_count": null,
      "outputs": []
    },
    {
      "cell_type": "code",
      "source": [
        "#test\n",
        "filePath = '/content/drive/MyDrive/ANH AI/Com_suon.jpg'\n",
        "testImage = load_img(filePath, color_mode = 'rgb', target_size=(30,40))\n",
        "arrayImage = img_to_array(testImage).reshape(1,30,40,3)/255\n",
        "pred = np.argmax(model.predict(arrayImage))\n",
        "print(\"Predicted: \", class_name[pred])\n",
        "plt.imshow(testImage)"
      ],
      "metadata": {
        "colab": {
          "base_uri": "https://localhost:8080/",
          "height": 482
        },
        "id": "AulwymjBgfOJ",
        "outputId": "4e7ccf81-9d28-4e66-d7cb-75d5f42d9bdd"
      },
      "execution_count": null,
      "outputs": [
        {
          "output_type": "stream",
          "name": "stdout",
          "text": [
            "1/1 [==============================] - 0s 22ms/step\n",
            "Predicted:  com suon\n"
          ]
        },
        {
          "output_type": "execute_result",
          "data": {
            "text/plain": [
              "<matplotlib.image.AxesImage at 0x7f164c12ef70>"
            ]
          },
          "metadata": {},
          "execution_count": 55
        },
        {
          "output_type": "display_data",
          "data": {
            "text/plain": [
              "<Figure size 640x480 with 1 Axes>"
            ],
            "image/png": "[encoded data removed]"
          },
          "metadata": {}
        }
      ]
    }
  ]
}