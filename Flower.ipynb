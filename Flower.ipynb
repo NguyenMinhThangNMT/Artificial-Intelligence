{
  "nbformat": 4,
  "nbformat_minor": 0,
  "metadata": {
    "colab": {
      "provenance": [],
      "gpuType": "T4",
      "mount_file_id": "1u2Vd09sKClBqlQd3U-FDkoC00uzpHIFV",
      "authorship_tag": "ABX9TyMM1zdkJaH51nCTMaSS4gVM",
      "include_colab_link": true
    },
    "kernelspec": {
      "name": "python3",
      "display_name": "Python 3"
    },
    "language_info": {
      "name": "python"
    },
    "accelerator": "GPU",
    "gpuClass": "standard"
  },
  "cells": [
    {
      "cell_type": "markdown",
      "metadata": {
        "id": "view-in-github",
        "colab_type": "text"
      },
      "source": [
        "<a href=\"https://colab.research.google.com/github/NguyenMinhThangNMT/HomeWorks/blob/main/Flower.ipynb\" target=\"_parent\"><img src=\"https://colab.research.google.com/assets/colab-badge.svg\" alt=\"Open In Colab\"/></a>"
      ]
    },
    {
      "cell_type": "code",
      "source": [
        "from os import listdir\n",
        "from numpy import asarray,save\n",
        "from keras.utils import load_img, img_to_array"
      ],
      "metadata": {
        "id": "uB-0DFb8j5hZ"
      },
      "execution_count": 22,
      "outputs": []
    },
    {
      "cell_type": "code",
      "source": [
        "#Xử lí dữ liệu Train\n",
        "folder = '/content/drive/MyDrive/ANH AI/flower/Train/'\n",
        "\n",
        "photos, labels = list(), list()\n",
        "for file in listdir(folder) :\n",
        "  output = 0.0\n",
        "  if file.startswith('Hoa_hong'):\n",
        "    output = 1.0\n",
        "  if file.startswith('Hoa_huong_duong'):\n",
        "    output = 2.0\n",
        "  if file.startswith('Hoa_sen'):\n",
        "    output = 3.0\n",
        "  if file.startswith('Hoa_su'):\n",
        "    output = 4.0\n",
        "  if file.startswith('Hoa_van_tho'):\n",
        "    output = 5.0\n",
        "\n",
        "  photo = load_img(folder + file, target_size = (30,40))\n",
        "  photo = img_to_array(photo)\n",
        "  photos.append(photo)\n",
        "  labels.append(output)\n",
        "photos_train = asarray(photos)\n",
        "labels_train = asarray(labels)\n",
        "print(photos_train.shape, labels_train.shape)\n",
        "\n",
        "\n",
        "save('/content/drive/MyDrive/ANH AI/flower/Train/Food_photo.npy',photos_train)\n",
        "save('/content/drive/MyDrive/ANH AI/flower/Train/Food_label.npy',labels_train)"
      ],
      "metadata": {
        "colab": {
          "base_uri": "https://localhost:8080/"
        },
        "id": "QyVEb3s5j85_",
        "outputId": "7009aba7-c3e3-49e1-fe97-83ce75d004ff"
      },
      "execution_count": 23,
      "outputs": [
        {
          "output_type": "stream",
          "name": "stdout",
          "text": [
            "(25, 30, 40, 3) (25,)\n"
          ]
        }
      ]
    },
    {
      "cell_type": "code",
      "source": [
        "#Xử lí dữ liệu Test\n",
        "folder = '/content/drive/MyDrive/ANH AI/flower/Test/'\n",
        "photos, labels = list(), list()\n",
        "for file in listdir(folder) :\n",
        "  output = 0.0\n",
        "  if file.startswith('Hoa_hong'):\n",
        "    output = 1.0\n",
        "  if file.startswith('Hoa_huong_duong'):\n",
        "    output = 2.0\n",
        "  if file.startswith('Hoa_sen'):\n",
        "    output = 3.0\n",
        "  if file.startswith('Hoa_su'):\n",
        "    output = 4.0\n",
        "  if file.startswith('Hoa_van_tho'):\n",
        "    output = 5.0\n",
        " \n",
        "  photo = load_img(folder + file, target_size = (30,40))\n",
        "  photo = img_to_array(photo)\n",
        "  photos.append(photo)\n",
        "  labels.append(output)\n",
        "photos_test = asarray(photos)\n",
        "labels_test = asarray(labels)\n",
        "print(photos_test.shape, labels_test.shape)\n",
        "save('/content/drive/MyDrive/Mon AI/Food_photo_test.npy',photos_test)\n",
        "save('/content/drive/MyDrive/Mon AI/Food_photo_test.npy',labels_test)"
      ],
      "metadata": {
        "colab": {
          "base_uri": "https://localhost:8080/"
        },
        "id": "CTY1vYhRV1U8",
        "outputId": "a83343a9-e326-4719-8a3f-0296bb826444"
      },
      "execution_count": 24,
      "outputs": [
        {
          "output_type": "stream",
          "name": "stdout",
          "text": [
            "(15, 30, 40, 3) (15,)\n"
          ]
        }
      ]
    },
    {
      "cell_type": "code",
      "source": [
        "import matplotlib.pyplot as plt\n",
        "import numpy as np\n",
        "chosen_idx = 0\n",
        "chosen_img = photos_train[chosen_idx]\n",
        "plt.imshow((chosen_img*255).astype(np.uint8))\n",
        "plt.show()"
      ],
      "metadata": {
        "colab": {
          "base_uri": "https://localhost:8080/",
          "height": 430
        },
        "id": "IvdutYiNZkno",
        "outputId": "25ac58b5-09ce-4478-a0b6-ffab294369b2"
      },
      "execution_count": 25,
      "outputs": [
        {
          "output_type": "display_data",
          "data": {
            "text/plain": [
              "<Figure size 640x480 with 1 Axes>"
            ],
            "image/png": "[encoded data removed]"
          },
          "metadata": {}
        }
      ]
    },
    {
      "cell_type": "code",
      "source": [
        "#In các phần tửtử\n",
        "print('số ảnh dùng để train:',len(photos_train))\n",
        "print('số ảnh dùng để tét:',len(photos_test))\n",
        "print('Kích cỡ ảnh trailen',(photos_train.shape))\n",
        "print('Kích cỡ ảnh label:',labels_train.shape)\n",
        "print('Kích cỡ ảnh test:',photos_test.shape)\n",
        "print('Kích cỡ ảnh test_label:',labels_test.shape)"
      ],
      "metadata": {
        "colab": {
          "base_uri": "https://localhost:8080/"
        },
        "id": "caCu_S0MaCCg",
        "outputId": "3f02b5a3-cb06-4089-b3d3-9b6420fd11bc"
      },
      "execution_count": 26,
      "outputs": [
        {
          "output_type": "stream",
          "name": "stdout",
          "text": [
            "số ảnh dùng để train: 25\n",
            "số ảnh dùng để tét: 15\n",
            "Kích cỡ ảnh trailen (25, 30, 40, 3)\n",
            "Kích cỡ ảnh label: (25,)\n",
            "Kích cỡ ảnh test: (15, 30, 40, 3)\n",
            "Kích cỡ ảnh test_label: (15,)\n"
          ]
        }
      ]
    },
    {
      "cell_type": "code",
      "source": [
        "photos_train = photos_train.reshape(25, 30, 40, 3)\n",
        "photos_train = photos_train.astype('float32')/255 \n",
        "photos_test = photos_test.reshape(15, 30, 40, 3)\n",
        "photos_test = photos_test.astype('float32')/255\n",
        "\n",
        "from keras.utils import  to_categorical\n",
        "labels_train = to_categorical(labels_train)\n",
        "labels_test = to_categorical(labels_test)\n",
        "photos_train.shape, labels_train.shape, photos_test.shape, labels_test.shape"
      ],
      "metadata": {
        "colab": {
          "base_uri": "https://localhost:8080/"
        },
        "id": "F5n1NO2vagNx",
        "outputId": "dbe0f0fe-0068-404d-9294-33ae6e2562ac"
      },
      "execution_count": 28,
      "outputs": [
        {
          "output_type": "execute_result",
          "data": {
            "text/plain": [
              "((25, 30, 40, 3), (25, 6), (15, 30, 40, 3), (15, 6))"
            ]
          },
          "metadata": {},
          "execution_count": 28
        }
      ]
    },
    {
      "cell_type": "code",
      "source": [
        "from keras.models import Sequential, Model\n",
        "from keras import Input, Model\n",
        "from keras.optimizers import Adam\n",
        "from keras.layers import Dense, Dropout, Flatten, Conv2D, MaxPooling2D\n",
        "from keras.layers import BatchNormalization, LeakyReLU\n",
        "\n",
        "batch_size = 64\n",
        "epochs = 20\n",
        "classes = 6\n",
        "model = Sequential()\n",
        "\n",
        "#CNN\n",
        "model.add(Conv2D(32, kernel_size = (3,3), activation = 'linear',input_shape = (30,40,3), padding = 'same')) \n",
        "\n",
        "# nhan tich chap 32 lan\n",
        "model.add(LeakyReLU(alpha = 0.1))\n",
        "model.add(MaxPooling2D((2,2), padding = 'same'))\n",
        "model.add(Conv2D(64, (3,3), activation = 'linear', padding ='same'))\n",
        "model.add(LeakyReLU(alpha = 0.1))\n",
        "model.add(MaxPooling2D((2,2), padding = 'same'))\n",
        "model.add(Conv2D(128, (3,3), activation = 'linear', padding = 'same'))\n",
        "model.add(LeakyReLU(alpha = 0.1))\n",
        "model.add(MaxPooling2D((2,2), padding = 'same'))\n",
        "\n",
        "#Xây dựng mang noron(Lớp phẳng,lớp ẩn, đầu ra)\n",
        "model.add(Flatten())\n",
        "model.add(Dense(128, activation = 'linear'))\n",
        "model.add(LeakyReLU(alpha = 0.1))\n",
        "model.add(Dense(classes, activation ='softmax'))"
      ],
      "metadata": {
        "id": "bqxqXm65aqTA"
      },
      "execution_count": 29,
      "outputs": []
    },
    {
      "cell_type": "code",
      "source": [
        "#compile\n",
        "model.compile(optimizer = Adam(), loss = 'categorical_crossentropy', metrics = ['accuracy'])\n",
        "model.summary()\n",
        "train = model.fit(photos_train, labels_train, batch_size = batch_size , epochs = epochs, verbose = 1)\n",
        "\n",
        "test_loss, test_acc = model.evaluate(photos_test, labels_test)\n",
        "print('do chinh xac', test_acc)\n",
        "print('ham mat mat', test_loss)"
      ],
      "metadata": {
        "colab": {
          "base_uri": "https://localhost:8080/"
        },
        "id": "yjJQv-iyatnI",
        "outputId": "192a569b-5521-4fa9-afd0-76a0e4345299"
      },
      "execution_count": 30,
      "outputs": [
        {
          "output_type": "stream",
          "name": "stdout",
          "text": [
            "Model: \"sequential\"\n",
            "_________________________________________________________________\n",
            " Layer (type)                Output Shape              Param #   \n",
            "=================================================================\n",
            " conv2d (Conv2D)             (None, 30, 40, 32)        896       \n",
            "                                                                 \n",
            " leaky_re_lu (LeakyReLU)     (None, 30, 40, 32)        0         \n",
            "                                                                 \n",
            " max_pooling2d (MaxPooling2D  (None, 15, 20, 32)       0         \n",
            " )                                                               \n",
            "                                                                 \n",
            " conv2d_1 (Conv2D)           (None, 15, 20, 64)        18496     \n",
            "                                                                 \n",
            " leaky_re_lu_1 (LeakyReLU)   (None, 15, 20, 64)        0         \n",
            "                                                                 \n",
            " max_pooling2d_1 (MaxPooling  (None, 8, 10, 64)        0         \n",
            " 2D)                                                             \n",
            "                                                                 \n",
            " conv2d_2 (Conv2D)           (None, 8, 10, 128)        73856     \n",
            "                                                                 \n",
            " leaky_re_lu_2 (LeakyReLU)   (None, 8, 10, 128)        0         \n",
            "                                                                 \n",
            " max_pooling2d_2 (MaxPooling  (None, 4, 5, 128)        0         \n",
            " 2D)                                                             \n",
            "                                                                 \n",
            " flatten (Flatten)           (None, 2560)              0         \n",
            "                                                                 \n",
            " dense (Dense)               (None, 128)               327808    \n",
            "                                                                 \n",
            " leaky_re_lu_3 (LeakyReLU)   (None, 128)               0         \n",
            "                                                                 \n",
            " dense_1 (Dense)             (None, 6)                 774       \n",
            "                                                                 \n",
            "=================================================================\n",
            "Total params: 421,830\n",
            "Trainable params: 421,830\n",
            "Non-trainable params: 0\n",
            "_________________________________________________________________\n",
            "Epoch 1/20\n",
            "1/1 [==============================] - 8s 8s/step - loss: 1.8514 - accuracy: 0.0000e+00\n",
            "Epoch 2/20\n",
            "1/1 [==============================] - 0s 19ms/step - loss: 1.6471 - accuracy: 0.2400\n",
            "Epoch 3/20\n",
            "1/1 [==============================] - 0s 18ms/step - loss: 1.5401 - accuracy: 0.4400\n",
            "Epoch 4/20\n",
            "1/1 [==============================] - 0s 15ms/step - loss: 1.4272 - accuracy: 0.7200\n",
            "Epoch 5/20\n",
            "1/1 [==============================] - 0s 14ms/step - loss: 1.3022 - accuracy: 0.8800\n",
            "Epoch 6/20\n",
            "1/1 [==============================] - 0s 14ms/step - loss: 1.1401 - accuracy: 0.7200\n",
            "Epoch 7/20\n",
            "1/1 [==============================] - 0s 15ms/step - loss: 0.9530 - accuracy: 0.9200\n",
            "Epoch 8/20\n",
            "1/1 [==============================] - 0s 14ms/step - loss: 0.7584 - accuracy: 0.9200\n",
            "Epoch 9/20\n",
            "1/1 [==============================] - 0s 14ms/step - loss: 0.6012 - accuracy: 0.8800\n",
            "Epoch 10/20\n",
            "1/1 [==============================] - 0s 13ms/step - loss: 0.6734 - accuracy: 0.8000\n",
            "Epoch 11/20\n",
            "1/1 [==============================] - 0s 16ms/step - loss: 0.6335 - accuracy: 0.7200\n",
            "Epoch 12/20\n",
            "1/1 [==============================] - 0s 13ms/step - loss: 0.5185 - accuracy: 0.8400\n",
            "Epoch 13/20\n",
            "1/1 [==============================] - 0s 12ms/step - loss: 0.3709 - accuracy: 0.8800\n",
            "Epoch 14/20\n",
            "1/1 [==============================] - 0s 17ms/step - loss: 0.3892 - accuracy: 0.8800\n",
            "Epoch 15/20\n",
            "1/1 [==============================] - 0s 16ms/step - loss: 0.2540 - accuracy: 0.9600\n",
            "Epoch 16/20\n",
            "1/1 [==============================] - 0s 16ms/step - loss: 0.2526 - accuracy: 0.9600\n",
            "Epoch 17/20\n",
            "1/1 [==============================] - 0s 17ms/step - loss: 0.1892 - accuracy: 1.0000\n",
            "Epoch 18/20\n",
            "1/1 [==============================] - 0s 14ms/step - loss: 0.1749 - accuracy: 0.9600\n",
            "Epoch 19/20\n",
            "1/1 [==============================] - 0s 13ms/step - loss: 0.1542 - accuracy: 0.9600\n",
            "Epoch 20/20\n",
            "1/1 [==============================] - 0s 13ms/step - loss: 0.1074 - accuracy: 1.0000\n",
            "1/1 [==============================] - 0s 265ms/step - loss: 0.1089 - accuracy: 1.0000\n",
            "do chinh xac 1.0\n",
            "ham mat mat 0.10885030776262283\n"
          ]
        }
      ]
    },
    {
      "cell_type": "code",
      "source": [
        "accuracy = train.history['accuracy']\n",
        "loss = train.history['loss']\n",
        "epochs = range(len(accuracy))\n",
        "plt.plot(epochs, accuracy, 'k', label = 'Train accuracy')\n",
        "plt.plot(epochs, loss, 'b', label = 'Train loss')\n",
        "plt.legend(['Train accuracy', 'Train loss'])\n",
        "plt.show()"
      ],
      "metadata": {
        "colab": {
          "base_uri": "https://localhost:8080/",
          "height": 430
        },
        "id": "-rDkaETaf8aS",
        "outputId": "e4f85903-22a5-4c91-fc00-888976781f4d"
      },
      "execution_count": 31,
      "outputs": [
        {
          "output_type": "display_data",
          "data": {
            "text/plain": [
              "<Figure size 640x480 with 1 Axes>"
            ],
            "image/png": "[encoded data removed]"
          },
          "metadata": {}
        }
      ]
    },
    {
      "cell_type": "code",
      "source": [
        "model.save('/content/drive/MyDrive/Mon AI/flower.h5')"
      ],
      "metadata": {
        "id": "DWz-usbSgCVB"
      },
      "execution_count": 33,
      "outputs": []
    },
    {
      "cell_type": "code",
      "source": [
        "class_name = {1: 'Hoa hong',2:'Hoa huong duong',3:'Hoa sen',4:'Hoa su',5:'Hoa van tho'}"
      ],
      "metadata": {
        "id": "MQNjxvdTgK7R"
      },
      "execution_count": 34,
      "outputs": []
    },
    {
      "cell_type": "code",
      "source": [
        "#test\n",
        "filePath = '/content/drive/MyDrive/ANH AI/Sunflower.jpeg'\n",
        "testImage = load_img(filePath, color_mode = 'rgb', target_size=(30,40))\n",
        "arrayImage = img_to_array(testImage).reshape(1,30,40,3)/255\n",
        "pred = np.argmax(model.predict(arrayImage))\n",
        "print(\"Predicted: \", class_name[pred])\n",
        "plt.imshow(testImage)"
      ],
      "metadata": {
        "colab": {
          "base_uri": "https://localhost:8080/",
          "height": 482
        },
        "id": "AulwymjBgfOJ",
        "outputId": "7ad7d4be-a89d-42c2-be0d-51298cc116ec"
      },
      "execution_count": 35,
      "outputs": [
        {
          "output_type": "stream",
          "name": "stdout",
          "text": [
            "1/1 [==============================] - 0s 200ms/step\n",
            "Predicted:  Hoa huong duong\n"
          ]
        },
        {
          "output_type": "execute_result",
          "data": {
            "text/plain": [
              "<matplotlib.image.AxesImage at 0x7f8e8c3be520>"
            ]
          },
          "metadata": {},
          "execution_count": 35
        },
        {
          "output_type": "display_data",
          "data": {
            "text/plain": [
              "<Figure size 640x480 with 1 Axes>"
            ],
            "image/png": "[encoded data removed]"
          },
          "metadata": {}
        }
      ]
    }
  ]
}