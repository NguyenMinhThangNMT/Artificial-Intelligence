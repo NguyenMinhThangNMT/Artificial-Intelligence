{
  "nbformat": 4,
  "nbformat_minor": 0,
  "metadata": {
    "colab": {
      "provenance": [],
      "authorship_tag": "ABX9TyMFVyC4yAnOOnoUVUBNLjyM",
      "include_colab_link": true
    },
    "kernelspec": {
      "name": "python3",
      "display_name": "Python 3"
    },
    "language_info": {
      "name": "python"
    }
  },
  "cells": [
    {
      "cell_type": "markdown",
      "metadata": {
        "id": "view-in-github",
        "colab_type": "text"
      },
      "source": [
        "<a href=\"https://colab.research.google.com/github/NguyenMinhThangNMT/HomeWorks/blob/main/Week3.ipynb\" target=\"_parent\"><img src=\"https://colab.research.google.com/assets/colab-badge.svg\" alt=\"Open In Colab\"/></a>"
      ]
    },
    {
      "cell_type": "code",
      "execution_count": null,
      "metadata": {
        "colab": {
          "base_uri": "https://localhost:8080/"
        },
        "id": "IlrUC1b1p1tS",
        "outputId": "0d524ac2-9d17-4325-b6cb-a6111afda744"
      },
      "outputs": [
        {
          "output_type": "stream",
          "name": "stdout",
          "text": [
            "Tổng số huy chương của Đoàn Thể Thao Đức : 158\n",
            "Tổng số huy chương vàng : 58\n",
            "Tổng số huy chương bạc : 59\n",
            "Tổng số huy chương đồng : 41\n"
          ]
        }
      ],
      "source": [
        "import pandas as pd\n",
        "import numpy as np\n",
        "url= 'medals.csv'\n",
        "dataframe=pd.read_csv(url)\n",
        "dataframe.iloc[:]\n",
        "Sum=sum((dataframe['NOC']=='GER') & (dataframe['Medal']))\n",
        "print('Tổng số huy chương của Đoàn Thể Thao Đức :',Sum)\n",
        "Gold=sum((dataframe['NOC']=='GER') & (dataframe['Medal']=='Gold'))\n",
        "print('Tổng số huy chương vàng :',Gold)\n",
        "Silver=sum((dataframe['NOC']=='GER') & (dataframe['Medal']=='Silver'))\n",
        "print('Tổng số huy chương bạc :',Silver)\n",
        "Bronze=sum((dataframe['NOC']=='GER') & (dataframe['Medal']=='Bronze'))\n",
        "print('Tổng số huy chương đồng :',Bronze)"
      ]
    },
    {
      "cell_type": "code",
      "source": [],
      "metadata": {
        "id": "zAoH5BfFrRzi"
      },
      "execution_count": null,
      "outputs": []
    }
  ]
}