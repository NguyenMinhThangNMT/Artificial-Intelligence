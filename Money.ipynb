{
  "nbformat": 4,
  "nbformat_minor": 0,
  "metadata": {
    "colab": {
      "provenance": [],
      "mount_file_id": "1SaOPL26OXiSb-KtQYBkvEeKBxOT4-JWQ",
      "authorship_tag": "ABX9TyPTRgWCuPBeP/DphiJVuRFE",
      "include_colab_link": true
    },
    "kernelspec": {
      "name": "python3",
      "display_name": "Python 3"
    },
    "language_info": {
      "name": "python"
    }
  },
  "cells": [
    {
      "cell_type": "markdown",
      "metadata": {
        "id": "view-in-github",
        "colab_type": "text"
      },
      "source": [
        "<a href=\"https://colab.research.google.com/github/NguyenMinhThangNMT/HomeWorks/blob/main/Money.ipynb\" target=\"_parent\"><img src=\"https://colab.research.google.com/assets/colab-badge.svg\" alt=\"Open In Colab\"/></a>"
      ]
    },
    {
      "cell_type": "code",
      "execution_count": 93,
      "metadata": {
        "id": "E22MW_LucquF"
      },
      "outputs": [],
      "source": [
        "from os import listdir\n",
        "from numpy import asarray,save\n",
        "from keras.utils import load_img, img_to_array"
      ]
    },
    {
      "cell_type": "code",
      "source": [
        "folder = '/content/drive/MyDrive/ANH AI/Money/train/'\n",
        "\n",
        "photos, labels = list(), list()\n",
        "for file in listdir(folder) :\n",
        "  \n",
        "  if file.startswith('10'):\n",
        "    output = 1.0\n",
        "  if file.startswith('20'):\n",
        "    output = 2.0\n",
        "  if file.startswith('50'):\n",
        "    output = 3.0\n",
        "  if file.startswith('100'):\n",
        "    output = 4.0\n",
        "\n",
        "  photo = load_img(folder + file, target_size = (30,40))\n",
        "  photo = img_to_array(photo)\n",
        "  photos.append(photo)\n",
        "  labels.append(output)\n",
        "photos_train = asarray(photos)\n",
        "labels_train = asarray(labels)\n",
        "print(photos_train.shape, labels_train.shape)\n",
        "save('/content/drive/MyDrive/Mon AI/Money_photo.npy',photos_train)\n",
        "save('/content/drive/MyDrive/Mon AI/Money_label.npy',labels_train)"
      ],
      "metadata": {
        "id": "e3ttOimVctgH",
        "colab": {
          "base_uri": "https://localhost:8080/"
        },
        "outputId": "989f6179-5bfd-410b-e6c7-398844a8767f"
      },
      "execution_count": 94,
      "outputs": [
        {
          "output_type": "stream",
          "name": "stdout",
          "text": [
            "(8, 30, 40, 3) (8,)\n"
          ]
        }
      ]
    },
    {
      "cell_type": "code",
      "source": [],
      "metadata": {
        "id": "Rk2nwibvjjy2"
      },
      "execution_count": 94,
      "outputs": []
    },
    {
      "cell_type": "code",
      "source": [
        "folder = '/content/drive/MyDrive/ANH AI/Money/test/'\n",
        "photos, labels = list(), list()\n",
        "for file in listdir(folder) :\n",
        "\n",
        "  if file.startswith('10'):\n",
        "    output = 1.0\n",
        "  if file.startswith('20'):\n",
        "    output = 2.0\n",
        "  if file.startswith('50'):\n",
        "    output = 3.0\n",
        "  if file.startswith('100'):\n",
        "    output = 4.0\n",
        "  photo = load_img(folder + file, target_size = (30,40))\n",
        "  photo = img_to_array(photo)\n",
        "  photos.append(photo)\n",
        "  labels.append(output)\n",
        "photos_test = asarray(photos)\n",
        "labels_test = asarray(labels)\n",
        "print(photos_test.shape, labels_test.shape)\n",
        "save('/content/drive/MyDrive/Mon AI/Money_photo_test.npy',photos_test)\n",
        "save('/content/drive/MyDrive/Mon AI/Money_photo_test.npy',labels_test)"
      ],
      "metadata": {
        "colab": {
          "base_uri": "https://localhost:8080/"
        },
        "id": "56rWqwsMgwM9",
        "outputId": "ed17d69f-105a-486b-e681-d14b3285876f"
      },
      "execution_count": 95,
      "outputs": [
        {
          "output_type": "stream",
          "name": "stdout",
          "text": [
            "(8, 30, 40, 3) (8,)\n"
          ]
        }
      ]
    },
    {
      "cell_type": "code",
      "source": [
        "from google.colab import drive\n",
        "drive.mount('/content/drive')"
      ],
      "metadata": {
        "id": "wQyINRGGc03G",
        "colab": {
          "base_uri": "https://localhost:8080/"
        },
        "outputId": "b83fd3ea-7b75-443f-f29c-d24000c51321"
      },
      "execution_count": 96,
      "outputs": [
        {
          "output_type": "stream",
          "name": "stdout",
          "text": [
            "Drive already mounted at /content/drive; to attempt to forcibly remount, call drive.mount(\"/content/drive\", force_remount=True).\n"
          ]
        }
      ]
    },
    {
      "cell_type": "code",
      "source": [
        "import matplotlib.pyplot as plt\n",
        "import numpy as np\n",
        "chosen_idx = 2\n",
        "chosen_img = photos_train[chosen_idx]\n",
        "plt.imshow((chosen_img*255).astype(np.uint8))\n",
        "plt.show()"
      ],
      "metadata": {
        "colab": {
          "base_uri": "https://localhost:8080/",
          "height": 430
        },
        "id": "E9wJxc4_d9hW",
        "outputId": "b8c01ac9-8955-41f7-df95-7aa43c7c23a8"
      },
      "execution_count": 97,
      "outputs": [
        {
          "output_type": "display_data",
          "data": {
            "text/plain": [
              "<Figure size 640x480 with 1 Axes>"
            ],
            "image/png": "[encoded data removed]"
          },
          "metadata": {}
        }
      ]
    },
    {
      "cell_type": "code",
      "source": [
        "photos_train = photos_train.reshape(8,30, 40, 3)\n",
        "photos_train = photos_train.astype('float32')/255 \n",
        "photos_test = photos_test.reshape( 8,30, 40, 3)\n",
        "photos_test = photos_test.astype('float32')/255\n",
        "\n",
        "from keras.utils import  to_categorical\n",
        "labels_train = to_categorical(labels_train)\n",
        "labels_test = to_categorical(labels_test)\n",
        "photos_train.shape, labels_train.shape, photos_test.shape, labels_test.shape"
      ],
      "metadata": {
        "colab": {
          "base_uri": "https://localhost:8080/"
        },
        "id": "1XhthEe4gR1-",
        "outputId": "7f1329a7-2ef7-4449-b5f1-8c3e4a46735e"
      },
      "execution_count": 98,
      "outputs": [
        {
          "output_type": "execute_result",
          "data": {
            "text/plain": [
              "((8, 30, 40, 3), (8, 5), (8, 30, 40, 3), (8, 5))"
            ]
          },
          "metadata": {},
          "execution_count": 98
        }
      ]
    },
    {
      "cell_type": "code",
      "source": [
        "from keras.models import Sequential, Model\n",
        "from keras import Input, Model\n",
        "from keras.optimizers import Adam\n",
        "from keras.layers import Dense, Dropout, Flatten, Conv2D, MaxPooling2D\n",
        "from keras.layers import BatchNormalization, LeakyReLU\n",
        "batch_size = 64\n",
        "epochs = 20\n",
        "classes = 5\n",
        "\n",
        "model = Sequential()\n",
        "#CNN\n",
        "model.add(Conv2D(32, kernel_size = (3,3), activation = 'linear',\n",
        "                 input_shape = (30,40,3), padding = 'same')) \n",
        "# nhan tich chap 32 lan\n",
        "model.add(LeakyReLU(alpha = 0.1))\n",
        "model.add(MaxPooling2D((2,2), padding = 'same'))\n",
        "\n",
        "model.add(Conv2D(64, (3,3), activation = 'linear', padding ='same'))\n",
        "model.add(LeakyReLU(alpha = 0.1))\n",
        "model.add(MaxPooling2D((2,2), padding = 'same'))\n",
        "\n",
        "model.add(Conv2D(128, (3,3), activation = 'linear', padding = 'same'))\n",
        "model.add(LeakyReLU(alpha = 0.1))\n",
        "model.add(MaxPooling2D((2,2), padding = 'same'))\n",
        "#ANN\n",
        "model.add(Flatten())\n",
        "model.add(Dense(128, activation = 'linear'))\n",
        "model.add(LeakyReLU(alpha = 0.1))\n",
        "model.add(Dense(classes, activation ='softmax'))"
      ],
      "metadata": {
        "id": "TEQ4YH97h41u"
      },
      "execution_count": 99,
      "outputs": []
    },
    {
      "cell_type": "code",
      "source": [
        "#compile\n",
        "model.compile(optimizer = Adam(), loss = 'categorical_crossentropy', \n",
        "              metrics = ['accuracy'])\n",
        "model.summary()\n",
        "\n",
        "train = model.fit(photos_train, labels_train, batch_size = batch_size , \n",
        "                  epochs = epochs, verbose = 1)\n",
        "\n",
        "test_loss, test_acc = model.evaluate(photos_test, labels_test)\n",
        "print('do chinh xac', test_acc)\n",
        "print('ham mat mat', test_loss)"
      ],
      "metadata": {
        "colab": {
          "base_uri": "https://localhost:8080/"
        },
        "id": "0OrmhKkJiFxl",
        "outputId": "4f46bc61-ec22-4b28-bb0e-ed2bb42496f9"
      },
      "execution_count": 100,
      "outputs": [
        {
          "output_type": "stream",
          "name": "stdout",
          "text": [
            "Model: \"sequential_7\"\n",
            "_________________________________________________________________\n",
            " Layer (type)                Output Shape              Param #   \n",
            "=================================================================\n",
            " conv2d_21 (Conv2D)          (None, 30, 40, 32)        896       \n",
            "                                                                 \n",
            " leaky_re_lu_28 (LeakyReLU)  (None, 30, 40, 32)        0         \n",
            "                                                                 \n",
            " max_pooling2d_21 (MaxPoolin  (None, 15, 20, 32)       0         \n",
            " g2D)                                                            \n",
            "                                                                 \n",
            " conv2d_22 (Conv2D)          (None, 15, 20, 64)        18496     \n",
            "                                                                 \n",
            " leaky_re_lu_29 (LeakyReLU)  (None, 15, 20, 64)        0         \n",
            "                                                                 \n",
            " max_pooling2d_22 (MaxPoolin  (None, 8, 10, 64)        0         \n",
            " g2D)                                                            \n",
            "                                                                 \n",
            " conv2d_23 (Conv2D)          (None, 8, 10, 128)        73856     \n",
            "                                                                 \n",
            " leaky_re_lu_30 (LeakyReLU)  (None, 8, 10, 128)        0         \n",
            "                                                                 \n",
            " max_pooling2d_23 (MaxPoolin  (None, 4, 5, 128)        0         \n",
            " g2D)                                                            \n",
            "                                                                 \n",
            " flatten_7 (Flatten)         (None, 2560)              0         \n",
            "                                                                 \n",
            " dense_14 (Dense)            (None, 128)               327808    \n",
            "                                                                 \n",
            " leaky_re_lu_31 (LeakyReLU)  (None, 128)               0         \n",
            "                                                                 \n",
            " dense_15 (Dense)            (None, 5)                 645       \n",
            "                                                                 \n",
            "=================================================================\n",
            "Total params: 421,701\n",
            "Trainable params: 421,701\n",
            "Non-trainable params: 0\n",
            "_________________________________________________________________\n",
            "Epoch 1/20\n",
            "1/1 [==============================] - 1s 950ms/step - loss: 1.6250 - accuracy: 0.2500\n",
            "Epoch 2/20\n",
            "1/1 [==============================] - 0s 45ms/step - loss: 1.4270 - accuracy: 0.2500\n",
            "Epoch 3/20\n",
            "1/1 [==============================] - 0s 40ms/step - loss: 1.3392 - accuracy: 0.6250\n",
            "Epoch 4/20\n",
            "1/1 [==============================] - 0s 40ms/step - loss: 1.2934 - accuracy: 0.6250\n",
            "Epoch 5/20\n",
            "1/1 [==============================] - 0s 39ms/step - loss: 1.2370 - accuracy: 0.3750\n",
            "Epoch 6/20\n",
            "1/1 [==============================] - 0s 36ms/step - loss: 1.1893 - accuracy: 0.6250\n",
            "Epoch 7/20\n",
            "1/1 [==============================] - 0s 37ms/step - loss: 1.1231 - accuracy: 0.6250\n",
            "Epoch 8/20\n",
            "1/1 [==============================] - 0s 36ms/step - loss: 1.0259 - accuracy: 1.0000\n",
            "Epoch 9/20\n",
            "1/1 [==============================] - 0s 37ms/step - loss: 0.9326 - accuracy: 0.8750\n",
            "Epoch 10/20\n",
            "1/1 [==============================] - 0s 55ms/step - loss: 0.8320 - accuracy: 1.0000\n",
            "Epoch 11/20\n",
            "1/1 [==============================] - 0s 49ms/step - loss: 0.7750 - accuracy: 1.0000\n",
            "Epoch 12/20\n",
            "1/1 [==============================] - 0s 48ms/step - loss: 0.7227 - accuracy: 0.7500\n",
            "Epoch 13/20\n",
            "1/1 [==============================] - 0s 50ms/step - loss: 0.6000 - accuracy: 0.8750\n",
            "Epoch 14/20\n",
            "1/1 [==============================] - 0s 51ms/step - loss: 0.5259 - accuracy: 1.0000\n",
            "Epoch 15/20\n",
            "1/1 [==============================] - 0s 41ms/step - loss: 0.4806 - accuracy: 0.8750\n",
            "Epoch 16/20\n",
            "1/1 [==============================] - 0s 46ms/step - loss: 0.3872 - accuracy: 1.0000\n",
            "Epoch 17/20\n",
            "1/1 [==============================] - 0s 42ms/step - loss: 0.3630 - accuracy: 0.8750\n",
            "Epoch 18/20\n",
            "1/1 [==============================] - 0s 40ms/step - loss: 0.2937 - accuracy: 1.0000\n",
            "Epoch 19/20\n",
            "1/1 [==============================] - 0s 39ms/step - loss: 0.2417 - accuracy: 1.0000\n",
            "Epoch 20/20\n",
            "1/1 [==============================] - 0s 54ms/step - loss: 0.2140 - accuracy: 1.0000\n",
            "1/1 [==============================] - 0s 200ms/step - loss: 0.1580 - accuracy: 1.0000\n",
            "do chinh xac 1.0\n",
            "ham mat mat 0.1579662561416626\n"
          ]
        }
      ]
    },
    {
      "cell_type": "code",
      "source": [
        "class_name = {1: '10k',2: '20k',3: '50k',\n",
        "                  4: '100k',}"
      ],
      "metadata": {
        "id": "I4Lj7onrjyVe"
      },
      "execution_count": 101,
      "outputs": []
    },
    {
      "cell_type": "code",
      "source": [
        "\n",
        "#test\n",
        "filePath = '/content/drive/MyDrive/ANH AI/Money1/100k2.jpg'\n",
        "testImage = load_img(filePath, color_mode = 'rgb', target_size=(30,40))\n",
        "arrayImage = img_to_array(testImage).reshape(1,30,40,3)/255\n",
        "pred = np.argmax(model.predict(arrayImage))\n",
        "print(\"Predicted: \", class_name[pred])\n",
        "plt.imshow(testImage)"
      ],
      "metadata": {
        "colab": {
          "base_uri": "https://localhost:8080/",
          "height": 482
        },
        "id": "gCYhUu3Bj7X1",
        "outputId": "864ac534-b77f-4bac-c9e3-250abd3bf383"
      },
      "execution_count": 102,
      "outputs": [
        {
          "output_type": "stream",
          "name": "stdout",
          "text": [
            "1/1 [==============================] - 0s 116ms/step\n",
            "Predicted:  100k\n"
          ]
        },
        {
          "output_type": "execute_result",
          "data": {
            "text/plain": [
              "<matplotlib.image.AxesImage at 0x7f1bba1f3e20>"
            ]
          },
          "metadata": {},
          "execution_count": 102
        },
        {
          "output_type": "display_data",
          "data": {
            "text/plain": [
              "<Figure size 640x480 with 1 Axes>"
            ],
            "image/png": "[encoded data removed]"
          },
          "metadata": {}
        }
      ]
    }
  ]
}