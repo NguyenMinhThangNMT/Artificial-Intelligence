{
  "nbformat": 4,
  "nbformat_minor": 0,
  "metadata": {
    "colab": {
      "provenance": [],
      "gpuType": "T4",
      "mount_file_id": "1fBsJHfoXoPNTde5N1VE00wfwOE2N3mqi",
      "authorship_tag": "ABX9TyM25jjxyRFf/YiorjODbzGN",
      "include_colab_link": true
    },
    "kernelspec": {
      "name": "python3",
      "display_name": "Python 3"
    },
    "language_info": {
      "name": "python"
    },
    "gpuClass": "standard"
  },
  "cells": [
    {
      "cell_type": "markdown",
      "metadata": {
        "id": "view-in-github",
        "colab_type": "text"
      },
      "source": [
        "<a href=\"https://colab.research.google.com/github/NguyenMinhThangNMT/HomeWorks/blob/main/Finaltest.ipynb\" target=\"_parent\"><img src=\"https://colab.research.google.com/assets/colab-badge.svg\" alt=\"Open In Colab\"/></a>"
      ]
    },
    {
      "cell_type": "code",
      "execution_count": null,
      "metadata": {
        "id": "VMHevhpKNBw8"
      },
      "outputs": [],
      "source": [
        "from os import listdir\n",
        "from numpy import asarray,save\n",
        "from keras.utils import load_img, img_to_array"
      ]
    },
    {
      "cell_type": "code",
      "source": [
        "folder = '/content/drive/MyDrive/Hinhcuoiki/HinhTrain/'\n",
        "\n",
        "photos, labels = list(), list()\n",
        "for file in listdir(folder) :\n",
        "  \n",
        "  if file.startswith('Sup'):\n",
        "    output = 0.0\n",
        "  if file.startswith('Sad'):\n",
        "    output = 1.0\n",
        "  if file.startswith('Neu'):\n",
        "    output = 2.0\n",
        "  if file.startswith('Hap'):\n",
        "    output = 3.0\n",
        "  if file.startswith('Fear'):\n",
        "    output = 4.0\n",
        "  if file.startswith('Angry'):\n",
        "    output = 5.0\n",
        "  if file.startswith('Disgust'):\n",
        "    output = 6.0\n",
        "  photo = load_img(folder + file, target_size = (40,40))\n",
        "  photo = img_to_array(photo)\n",
        "  photos.append(photo)\n",
        "  labels.append(output)\n",
        "photos_train = asarray(photos)\n",
        "labels_train = asarray(labels)\n",
        "print(photos_train.shape, labels_train.shape)\n",
        "save('/content/drive/MyDrive/Mon AI/Train_photo.npy',photos_train)\n",
        "save('/content/drive/MyDrive/Mon AI/Train_label.npy',labels_train)"
      ],
      "metadata": {
        "colab": {
          "base_uri": "https://localhost:8080/"
        },
        "id": "ExdtU1rINeMX",
        "outputId": "d96b8dca-f3f4-4920-e503-5a81e343e56b"
      },
      "execution_count": null,
      "outputs": [
        {
          "output_type": "stream",
          "name": "stdout",
          "text": [
            "(1750, 40, 40, 3) (1750,)\n"
          ]
        }
      ]
    },
    {
      "cell_type": "code",
      "source": [
        "folder = '/content/drive/MyDrive/Hinhcuoiki/Hinhtest/'\n",
        "photos, labels = list(), list()\n",
        "for file in listdir(folder) :\n",
        "\n",
        "  if file.startswith('Sup'):\n",
        "    output = 0.0\n",
        "  if file.startswith('Sad'):\n",
        "    output = 1.0\n",
        "  if file.startswith('Neu'):\n",
        "    output = 2.0\n",
        "  if file.startswith('Hap'):\n",
        "    output = 3.0\n",
        "  if file.startswith('Fear'):\n",
        "    output = 4.0\n",
        "  if file.startswith('Angry'):\n",
        "    output = 5.0\n",
        "  if file.startswith('Disgust'):\n",
        "    output = 6.0\n",
        "  photo = load_img(folder + file, target_size = (40,40))\n",
        "  photo = img_to_array(photo)\n",
        "  photos.append(photo)\n",
        "  labels.append(output)\n",
        "photos_test = asarray(photos)\n",
        "labels_test = asarray(labels)\n",
        "print(photos_test.shape, labels_test.shape)\n",
        "save('/content/drive/MyDrive/Mon AI/Test_photo_test.npy',photos_test)\n",
        "save('/content/drive/MyDrive/Mon AI/Test_photo_test.npy',labels_test)"
      ],
      "metadata": {
        "colab": {
          "base_uri": "https://localhost:8080/"
        },
        "id": "vDobWo7zmDC9",
        "outputId": "48a4b2db-df3c-4424-f13f-4b055c513041"
      },
      "execution_count": null,
      "outputs": [
        {
          "output_type": "stream",
          "name": "stdout",
          "text": [
            "(350, 40, 40, 3) (350,)\n"
          ]
        }
      ]
    },
    {
      "cell_type": "code",
      "source": [
        "import matplotlib.pyplot as plt\n",
        "import numpy as np\n",
        "chosen_idx = 2\n",
        "chosen_img = photos_train[chosen_idx]\n",
        "plt.imshow((chosen_img*255).astype(np.uint8))\n",
        "plt.show()"
      ],
      "metadata": {
        "colab": {
          "base_uri": "https://localhost:8080/",
          "height": 431
        },
        "id": "omv3nTRimWzr",
        "outputId": "84c67456-8c74-4010-9306-2a4b148e4ad5"
      },
      "execution_count": null,
      "outputs": [
        {
          "output_type": "display_data",
          "data": {
            "text/plain": [
              "<Figure size 640x480 with 1 Axes>"
            ],
            "image/png": "[encoded data removed]"
          },
          "metadata": {}
        }
      ]
    },
    {
      "cell_type": "code",
      "source": [
        "photos_train = photos_train.reshape(1750,40, 40, 3)\n",
        "photos_train = photos_train.astype('float32')/255 \n",
        "photos_test = photos_test.reshape( 350,40, 40, 3)\n",
        "photos_test = photos_test.astype('float32')/255\n",
        "\n",
        "from keras.utils import  to_categorical\n",
        "labels_train = to_categorical(labels_train)\n",
        "labels_test = to_categorical(labels_test)\n",
        "photos_train.shape, labels_train.shape, photos_test.shape, labels_test.shape"
      ],
      "metadata": {
        "colab": {
          "base_uri": "https://localhost:8080/"
        },
        "id": "n858muSWmZ4z",
        "outputId": "8661f5aa-a0e2-437f-c695-a4647a8efa60"
      },
      "execution_count": null,
      "outputs": [
        {
          "output_type": "execute_result",
          "data": {
            "text/plain": [
              "((1750, 40, 40, 3), (1750, 7), (350, 40, 40, 3), (350, 7))"
            ]
          },
          "metadata": {},
          "execution_count": 39
        }
      ]
    },
    {
      "cell_type": "code",
      "source": [
        "from keras.models import Sequential, Model\n",
        "from keras import Input, Model\n",
        "from keras.optimizers import Adam\n",
        "from keras.layers import Dense, Dropout, Flatten, Conv2D, MaxPooling2D\n",
        "from keras.layers import BatchNormalization, LeakyReLU\n",
        "batch_size =64\n",
        "epochs = 30\n",
        "classes = 7\n",
        "\n",
        "model = Sequential()\n",
        "#CNN\n",
        "model.add(Conv2D(32, kernel_size = (3,3), activation = 'linear',\n",
        "                 input_shape = (40,40,3), padding = 'same')) \n",
        "# nhan tich chap 32 lan\n",
        "model.add(LeakyReLU(alpha = 0.1))\n",
        "model.add(MaxPooling2D((2,2), padding = 'same'))\n",
        "\n",
        "model.add(Conv2D(64, (3,3), activation = 'linear', padding ='same'))\n",
        "model.add(LeakyReLU(alpha = 0.1))\n",
        "model.add(MaxPooling2D((2,2), padding = 'same'))\n",
        "\n",
        "model.add(Conv2D(128, (3,3), activation = 'linear', padding = 'same'))\n",
        "model.add(LeakyReLU(alpha = 0.1))\n",
        "model.add(MaxPooling2D((2,2), padding = 'same'))\n",
        "#ANN\n",
        "model.add(Flatten())\n",
        "model.add(Dense(128, activation = 'linear'))\n",
        "model.add(LeakyReLU(alpha = 0.1))\n",
        "model.add(Dense(classes, activation ='softmax'))"
      ],
      "metadata": {
        "id": "YV7InL82mjEz"
      },
      "execution_count": null,
      "outputs": []
    },
    {
      "cell_type": "code",
      "source": [
        "#compile\n",
        "model.compile(optimizer = Adam(), loss = 'categorical_crossentropy', \n",
        "              metrics = ['accuracy'])\n",
        "model.summary()\n",
        "\n",
        "train = model.fit(photos_train, labels_train, batch_size = batch_size , \n",
        "                  epochs = epochs, verbose = 1)\n",
        "\n",
        "test_loss, test_acc = model.evaluate(photos_test, labels_test)\n",
        "print('do chinh xac', test_acc)\n",
        "print('ham mat mat', test_loss)"
      ],
      "metadata": {
        "colab": {
          "base_uri": "https://localhost:8080/"
        },
        "id": "vNMC-eQpmmT7",
        "outputId": "26a6f491-6f60-4dcf-cb8c-63053588c2f7"
      },
      "execution_count": null,
      "outputs": [
        {
          "output_type": "stream",
          "name": "stdout",
          "text": [
            "Model: \"sequential_5\"\n",
            "_________________________________________________________________\n",
            " Layer (type)                Output Shape              Param #   \n",
            "=================================================================\n",
            " conv2d_15 (Conv2D)          (None, 40, 40, 32)        896       \n",
            "                                                                 \n",
            " leaky_re_lu_20 (LeakyReLU)  (None, 40, 40, 32)        0         \n",
            "                                                                 \n",
            " max_pooling2d_15 (MaxPoolin  (None, 20, 20, 32)       0         \n",
            " g2D)                                                            \n",
            "                                                                 \n",
            " conv2d_16 (Conv2D)          (None, 20, 20, 64)        18496     \n",
            "                                                                 \n",
            " leaky_re_lu_21 (LeakyReLU)  (None, 20, 20, 64)        0         \n",
            "                                                                 \n",
            " max_pooling2d_16 (MaxPoolin  (None, 10, 10, 64)       0         \n",
            " g2D)                                                            \n",
            "                                                                 \n",
            " conv2d_17 (Conv2D)          (None, 10, 10, 128)       73856     \n",
            "                                                                 \n",
            " leaky_re_lu_22 (LeakyReLU)  (None, 10, 10, 128)       0         \n",
            "                                                                 \n",
            " max_pooling2d_17 (MaxPoolin  (None, 5, 5, 128)        0         \n",
            " g2D)                                                            \n",
            "                                                                 \n",
            " flatten_5 (Flatten)         (None, 3200)              0         \n",
            "                                                                 \n",
            " dense_10 (Dense)            (None, 128)               409728    \n",
            "                                                                 \n",
            " leaky_re_lu_23 (LeakyReLU)  (None, 128)               0         \n",
            "                                                                 \n",
            " dense_11 (Dense)            (None, 7)                 903       \n",
            "                                                                 \n",
            "=================================================================\n",
            "Total params: 503,879\n",
            "Trainable params: 503,879\n",
            "Non-trainable params: 0\n",
            "_________________________________________________________________\n",
            "Epoch 1/30\n",
            "28/28 [==============================] - 19s 562ms/step - loss: 1.9563 - accuracy: 0.1623\n",
            "Epoch 2/30\n",
            "28/28 [==============================] - 9s 312ms/step - loss: 1.9239 - accuracy: 0.1771\n",
            "Epoch 3/30\n",
            "28/28 [==============================] - 9s 336ms/step - loss: 1.8900 - accuracy: 0.2200\n",
            "Epoch 4/30\n",
            "28/28 [==============================] - 8s 270ms/step - loss: 1.8123 - accuracy: 0.2703\n",
            "Epoch 5/30\n",
            "28/28 [==============================] - 9s 310ms/step - loss: 1.7052 - accuracy: 0.3646\n",
            "Epoch 6/30\n",
            "28/28 [==============================] - 9s 318ms/step - loss: 1.6022 - accuracy: 0.4097\n",
            "Epoch 7/30\n",
            "28/28 [==============================] - 8s 270ms/step - loss: 1.5100 - accuracy: 0.4320\n",
            "Epoch 8/30\n",
            "28/28 [==============================] - 9s 338ms/step - loss: 1.3451 - accuracy: 0.5046\n",
            "Epoch 9/30\n",
            "28/28 [==============================] - 7s 252ms/step - loss: 1.1816 - accuracy: 0.5829\n",
            "Epoch 10/30\n",
            "28/28 [==============================] - 9s 336ms/step - loss: 0.9969 - accuracy: 0.6526\n",
            "Epoch 11/30\n",
            "28/28 [==============================] - 7s 251ms/step - loss: 0.8243 - accuracy: 0.7000\n",
            "Epoch 12/30\n",
            "28/28 [==============================] - 10s 353ms/step - loss: 0.6543 - accuracy: 0.7806\n",
            "Epoch 13/30\n",
            "28/28 [==============================] - 10s 344ms/step - loss: 0.4637 - accuracy: 0.8446\n",
            "Epoch 14/30\n",
            "28/28 [==============================] - 8s 264ms/step - loss: 0.2963 - accuracy: 0.9074\n",
            "Epoch 15/30\n",
            "28/28 [==============================] - 9s 332ms/step - loss: 0.1957 - accuracy: 0.9423\n",
            "Epoch 16/30\n",
            "28/28 [==============================] - 7s 256ms/step - loss: 0.1190 - accuracy: 0.9709\n",
            "Epoch 17/30\n",
            "28/28 [==============================] - 9s 329ms/step - loss: 0.0640 - accuracy: 0.9891\n",
            "Epoch 18/30\n",
            "28/28 [==============================] - 7s 251ms/step - loss: 0.0556 - accuracy: 0.9891\n",
            "Epoch 19/30\n",
            "28/28 [==============================] - 9s 333ms/step - loss: 0.0512 - accuracy: 0.9891\n",
            "Epoch 20/30\n",
            "28/28 [==============================] - 7s 250ms/step - loss: 0.0391 - accuracy: 0.9926\n",
            "Epoch 21/30\n",
            "28/28 [==============================] - 9s 324ms/step - loss: 0.0195 - accuracy: 0.9977\n",
            "Epoch 22/30\n",
            "28/28 [==============================] - 8s 287ms/step - loss: 0.0164 - accuracy: 0.9989\n",
            "Epoch 23/30\n",
            "28/28 [==============================] - 8s 282ms/step - loss: 0.0074 - accuracy: 0.9994\n",
            "Epoch 24/30\n",
            "28/28 [==============================] - 9s 319ms/step - loss: 0.0091 - accuracy: 0.9994\n",
            "Epoch 25/30\n",
            "28/28 [==============================] - 7s 248ms/step - loss: 0.0112 - accuracy: 0.9989\n",
            "Epoch 26/30\n",
            "28/28 [==============================] - 9s 330ms/step - loss: 0.0058 - accuracy: 0.9994\n",
            "Epoch 27/30\n",
            "28/28 [==============================] - 7s 250ms/step - loss: 0.0098 - accuracy: 0.9989\n",
            "Epoch 28/30\n",
            "28/28 [==============================] - 9s 331ms/step - loss: 0.0123 - accuracy: 0.9989\n",
            "Epoch 29/30\n",
            "28/28 [==============================] - 7s 249ms/step - loss: 0.0229 - accuracy: 0.9960\n",
            "Epoch 30/30\n",
            "28/28 [==============================] - 9s 332ms/step - loss: 0.0135 - accuracy: 0.9989\n",
            "11/11 [==============================] - 1s 38ms/step - loss: 0.7140 - accuracy: 0.9257\n",
            "do chinh xac 0.9257143139839172\n",
            "ham mat mat 0.713964581489563\n"
          ]
        }
      ]
    },
    {
      "cell_type": "code",
      "source": [
        "model.save('/content/drive/MyDrive/Mon AI/data.h5')"
      ],
      "metadata": {
        "id": "3pfNDFBURlR1"
      },
      "execution_count": null,
      "outputs": []
    },
    {
      "cell_type": "code",
      "source": [
        "accuracy = train.history['accuracy']\n",
        "loss = train.history['loss']\n",
        "epochs = range(len(accuracy))\n",
        "plt.plot(epochs, accuracy, 'k', label = 'Train accuracy')\n",
        "plt.plot(epochs, loss, 'b', label = 'Train loss')\n",
        "plt.legend(['Train accuracy', 'Train loss'])\n",
        "plt.show()"
      ],
      "metadata": {
        "id": "Q-q9LW0STGak",
        "outputId": "1a86f33d-c285-4478-d255-ea773577d1e7",
        "colab": {
          "base_uri": "https://localhost:8080/",
          "height": 430
        }
      },
      "execution_count": null,
      "outputs": [
        {
          "output_type": "display_data",
          "data": {
            "text/plain": [
              "<Figure size 640x480 with 1 Axes>"
            ],
            "image/png": "[encoded data removed]"
          },
          "metadata": {}
        }
      ]
    }
  ]
}