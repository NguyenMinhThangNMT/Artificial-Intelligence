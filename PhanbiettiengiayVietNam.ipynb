{
  "nbformat": 4,
  "nbformat_minor": 0,
  "metadata": {
    "colab": {
      "provenance": [],
      "mount_file_id": "1SaOPL26OXiSb-KtQYBkvEeKBxOT4-JWQ",
      "authorship_tag": "ABX9TyNyn3SQ1i1aabR4WMzKXgdz",
      "include_colab_link": true
    },
    "kernelspec": {
      "name": "python3",
      "display_name": "Python 3"
    },
    "language_info": {
      "name": "python"
    }
  },
  "cells": [
    {
      "cell_type": "markdown",
      "metadata": {
        "id": "view-in-github",
        "colab_type": "text"
      },
      "source": [
        "<a href=\"https://colab.research.google.com/github/NguyenMinhThangNMT/HomeWorks/blob/main/PhanbiettiengiayVietNam.ipynb\" target=\"_parent\"><img src=\"https://colab.research.google.com/assets/colab-badge.svg\" alt=\"Open In Colab\"/></a>"
      ]
    },
    {
      "cell_type": "code",
      "execution_count": null,
      "metadata": {
        "id": "E22MW_LucquF",
        "colab": {
          "base_uri": "https://localhost:8080/"
        },
        "outputId": "8ac4004e-689e-4448-eee6-7b32fb26d6c1"
      },
      "outputs": [
        {
          "output_type": "stream",
          "name": "stdout",
          "text": [
            "Drive already mounted at /content/drive; to attempt to forcibly remount, call drive.mount(\"/content/drive\", force_remount=True).\n"
          ]
        }
      ],
      "source": [
        "from google.colab import drive\n",
        "drive.mount('/content/drive')"
      ]
    },
    {
      "cell_type": "code",
      "source": [
        "from os import listdir\n",
        "from numpy import asarray,save\n",
        "from keras.utils import load_img, img_to_array    "
      ],
      "metadata": {
        "id": "6CL_WKchYFRN"
      },
      "execution_count": null,
      "outputs": []
    },
    {
      "cell_type": "code",
      "source": [
        "#Xử lí dữ liệu Train\n",
        "folder = '/content/drive/MyDrive/ANH AI/Money/train/'\n",
        "\n",
        "photos, labels = list(), list()\n",
        "for file in listdir(folder) :\n",
        "  if file.startswith('10'):\n",
        "    output = 1.0\n",
        "  if file.startswith('20'):\n",
        "    output = 2.0\n",
        "  if file.startswith('50'):\n",
        "    output = 3.0\n",
        "  if file.startswith('100'):\n",
        "    output = 4.0\n",
        "  photo = load_img(folder + file, target_size = (30,40))\n",
        "  photo = img_to_array(photo)\n",
        "  photos.append(photo)\n",
        "  labels.append(output)\n",
        "photos_train = asarray(photos)\n",
        "labels_train = asarray(labels)\n",
        "print(photos_train.shape, labels_train.shape)\n",
        "save('/content/drive/MyDrive/Mon AI/Money_photo.npy',photos_train)\n",
        "save('/content/drive/MyDrive/Mon AI/Money_label.npy',labels_train)"
      ],
      "metadata": {
        "id": "e3ttOimVctgH",
        "colab": {
          "base_uri": "https://localhost:8080/"
        },
        "outputId": "a9106aa2-434e-47fe-d925-60f3a3c89c88"
      },
      "execution_count": null,
      "outputs": [
        {
          "output_type": "stream",
          "name": "stdout",
          "text": [
            "(8, 30, 40, 3) (8,)\n"
          ]
        }
      ]
    },
    {
      "cell_type": "code",
      "source": [
        "#Xử lí dữ liệu Test\n",
        "folder = '/content/drive/MyDrive/ANH AI/Money/test/'\n",
        "photos, labels = list(), list()\n",
        "for file in listdir(folder) :\n",
        "\n",
        "  if file.startswith('10'):\n",
        "    output = 1.0\n",
        "  if file.startswith('20'):\n",
        "    output = 2.0\n",
        "  if file.startswith('50'):\n",
        "    output = 3.0\n",
        "  if file.startswith('100'):\n",
        "    output = 4.0\n",
        "  photo = load_img(folder + file, target_size = (30,40))\n",
        "  photo = img_to_array(photo)\n",
        "  photos.append(photo)\n",
        "  labels.append(output)\n",
        "photos_test = asarray(photos)\n",
        "labels_test = asarray(labels)\n",
        "print(photos_test.shape, labels_test.shape)\n",
        "save('/content/drive/MyDrive/Mon AI/Money_photo_test.npy',photos_test)\n",
        "save('/content/drive/MyDrive/Mon AI/Money_photo_test.npy',labels_test)"
      ],
      "metadata": {
        "colab": {
          "base_uri": "https://localhost:8080/"
        },
        "id": "56rWqwsMgwM9",
        "outputId": "a560166c-fc2d-45a1-9e24-f951a6c769d0"
      },
      "execution_count": null,
      "outputs": [
        {
          "output_type": "stream",
          "name": "stdout",
          "text": [
            "(8, 30, 40, 3) (8,)\n"
          ]
        }
      ]
    },
    {
      "cell_type": "code",
      "source": [
        "#Show 1 phần dữ liệu \n",
        "import matplotlib.pyplot as plt\n",
        "import numpy as np\n",
        "chosen_idx = 2\n",
        "chosen_img = photos_train[chosen_idx]\n",
        "plt.imshow((chosen_img*255).astype(np.uint8))\n",
        "plt.show()"
      ],
      "metadata": {
        "colab": {
          "base_uri": "https://localhost:8080/",
          "height": 430
        },
        "id": "E9wJxc4_d9hW",
        "outputId": "b0e051a5-d6ed-44d5-f01c-0b837f2596b0"
      },
      "execution_count": null,
      "outputs": [
        {
          "output_type": "display_data",
          "data": {
            "text/plain": [
              "<Figure size 640x480 with 1 Axes>"
            ],
            "image/png": "[encoded data removed]"
          },
          "metadata": {}
        }
      ]
    },
    {
      "cell_type": "code",
      "source": [
        "#In các phần tửtử\n",
        "print('số ảnh dùng để train:',len(photos_train))\n",
        "print('số ảnh dùng để tét:',len(photos_test))\n",
        "print('Kích cỡ ảnh trailen',(photos_train.shape))\n",
        "print('Kích cỡ ảnh label:',labels_train.shape)\n",
        "print('Kích cỡ ảnh test:',photos_test.shape)\n",
        "print('Kích cỡ ảnh test_label:',labels_test.shape)"
      ],
      "metadata": {
        "colab": {
          "base_uri": "https://localhost:8080/"
        },
        "id": "lZ4PNOijZZJP",
        "outputId": "d0054a93-2f67-4693-d9f2-7f05d24aa464"
      },
      "execution_count": null,
      "outputs": [
        {
          "output_type": "stream",
          "name": "stdout",
          "text": [
            "số ảnh dùng để train: 8\n",
            "số ảnh dùng để tét: 8\n",
            "Kích cỡ ảnh trailen (8, 30, 40, 3)\n",
            "Kích cỡ ảnh label: (8, 5)\n",
            "Kích cỡ ảnh test: (8, 30, 40, 3)\n",
            "Kích cỡ ảnh test_label: (8, 5)\n"
          ]
        }
      ]
    },
    {
      "cell_type": "code",
      "source": [
        "#1.3 Chuẩn hóa hình ảnh:đưa chia cho 255 để về giảm tải dữ liệu\n",
        "photos_train = photos_train.reshape(8,30, 40, 3)\n",
        "photos_train = photos_train.astype('float32')/255 \n",
        "photos_test = photos_test.reshape( 8,30, 40, 3)\n",
        "photos_test = photos_test.astype('float32')/255"
      ],
      "metadata": {
        "colab": {
          "base_uri": "https://localhost:8080/"
        },
        "id": "1XhthEe4gR1-",
        "outputId": "ab66a135-b86c-49b2-e76d-fb53183ecfe3"
      },
      "execution_count": null,
      "outputs": [
        {
          "output_type": "execute_result",
          "data": {
            "text/plain": [
              "((8, 30, 40, 3), (8, 5), (8, 30, 40, 3), (8, 5))"
            ]
          },
          "metadata": {},
          "execution_count": 15
        }
      ]
    },
    {
      "cell_type": "code",
      "source": [
        "#1.4 Chuẩn hóa OneHot để chuyển tên hình thành matrix\n",
        "from keras.utils import  to_categorical\n",
        "labels_train = to_categorical(labels_train)\n",
        "labels_test = to_categorical(labels_test)\n",
        "photos_train.shape, labels_train.shape, photos_test.shape, labels_test.shape"
      ],
      "metadata": {
        "id": "iyTHm0hxaJeO"
      },
      "execution_count": null,
      "outputs": []
    },
    {
      "cell_type": "code",
      "source": [
        "from keras.models import Sequential, Model\n",
        "from keras import Input, Model\n",
        "from keras.optimizers import Adam\n",
        "from keras.layers import Dense, Dropout, Flatten, Conv2D, MaxPooling2D\n",
        "from keras.layers import BatchNormalization, LeakyReLU\n",
        "\n",
        "batch_size = 64\n",
        "epochs = 20\n",
        "classes = 5\n",
        "model = Sequential()\n",
        "\n",
        "#CNN\n",
        "model.add(Conv2D(32, kernel_size = (3,3), activation = 'linear',input_shape = (30,40,3), padding = 'same')) \n",
        "\n",
        "# nhan tich chap 32 lan\n",
        "model.add(LeakyReLU(alpha = 0.1))\n",
        "model.add(MaxPooling2D((2,2), padding = 'same'))\n",
        "model.add(Conv2D(64, (3,3), activation = 'linear', padding ='same'))\n",
        "model.add(LeakyReLU(alpha = 0.1))\n",
        "model.add(MaxPooling2D((2,2), padding = 'same'))\n",
        "model.add(Conv2D(128, (3,3), activation = 'linear', padding = 'same'))\n",
        "model.add(LeakyReLU(alpha = 0.1))\n",
        "model.add(MaxPooling2D((2,2), padding = 'same'))\n",
        "\n",
        "#Xây dựng mang noron(Lớp phẳng,lớp ẩn, đầu ra)\n",
        "model.add(Flatten())\n",
        "model.add(Dense(128, activation = 'linear'))\n",
        "model.add(LeakyReLU(alpha = 0.1))\n",
        "model.add(Dense(classes, activation ='softmax'))"
      ],
      "metadata": {
        "id": "TEQ4YH97h41u"
      },
      "execution_count": null,
      "outputs": []
    },
    {
      "cell_type": "code",
      "source": [
        "#compile\n",
        "model.compile(optimizer = Adam(), loss = 'categorical_crossentropy', metrics = ['accuracy'])\n",
        "model.summary()\n",
        "train = model.fit(photos_train, labels_train, batch_size = batch_size , epochs = epochs, verbose = 1)\n",
        "\n",
        "test_loss, test_acc = model.evaluate(photos_test, labels_test)\n",
        "print('do chinh xac', test_acc)\n",
        "print('ham mat mat', test_loss)"
      ],
      "metadata": {
        "colab": {
          "base_uri": "https://localhost:8080/"
        },
        "id": "0OrmhKkJiFxl",
        "outputId": "9177cae8-6847-4bed-fea2-246afc3cfbe9"
      },
      "execution_count": null,
      "outputs": [
        {
          "output_type": "stream",
          "name": "stdout",
          "text": [
            "Model: \"sequential_1\"\n",
            "_________________________________________________________________\n",
            " Layer (type)                Output Shape              Param #   \n",
            "=================================================================\n",
            " conv2d_3 (Conv2D)           (None, 30, 40, 32)        896       \n",
            "                                                                 \n",
            " leaky_re_lu_4 (LeakyReLU)   (None, 30, 40, 32)        0         \n",
            "                                                                 \n",
            " max_pooling2d_3 (MaxPooling  (None, 15, 20, 32)       0         \n",
            " 2D)                                                             \n",
            "                                                                 \n",
            " conv2d_4 (Conv2D)           (None, 15, 20, 64)        18496     \n",
            "                                                                 \n",
            " leaky_re_lu_5 (LeakyReLU)   (None, 15, 20, 64)        0         \n",
            "                                                                 \n",
            " max_pooling2d_4 (MaxPooling  (None, 8, 10, 64)        0         \n",
            " 2D)                                                             \n",
            "                                                                 \n",
            " conv2d_5 (Conv2D)           (None, 8, 10, 128)        73856     \n",
            "                                                                 \n",
            " leaky_re_lu_6 (LeakyReLU)   (None, 8, 10, 128)        0         \n",
            "                                                                 \n",
            " max_pooling2d_5 (MaxPooling  (None, 4, 5, 128)        0         \n",
            " 2D)                                                             \n",
            "                                                                 \n",
            " flatten_1 (Flatten)         (None, 2560)              0         \n",
            "                                                                 \n",
            " dense_2 (Dense)             (None, 128)               327808    \n",
            "                                                                 \n",
            " leaky_re_lu_7 (LeakyReLU)   (None, 128)               0         \n",
            "                                                                 \n",
            " dense_3 (Dense)             (None, 5)                 645       \n",
            "                                                                 \n",
            "=================================================================\n",
            "Total params: 421,701\n",
            "Trainable params: 421,701\n",
            "Non-trainable params: 0\n",
            "_________________________________________________________________\n",
            "Epoch 1/20\n",
            "1/1 [==============================] - 1s 594ms/step - loss: 1.5936 - accuracy: 0.2500\n",
            "Epoch 2/20\n",
            "1/1 [==============================] - 0s 38ms/step - loss: 1.4231 - accuracy: 0.2500\n",
            "Epoch 3/20\n",
            "1/1 [==============================] - 0s 35ms/step - loss: 1.3124 - accuracy: 0.7500\n",
            "Epoch 4/20\n",
            "1/1 [==============================] - 0s 37ms/step - loss: 1.2183 - accuracy: 0.7500\n",
            "Epoch 5/20\n",
            "1/1 [==============================] - 0s 36ms/step - loss: 1.1134 - accuracy: 0.8750\n",
            "Epoch 6/20\n",
            "1/1 [==============================] - 0s 36ms/step - loss: 1.0051 - accuracy: 0.7500\n",
            "Epoch 7/20\n",
            "1/1 [==============================] - 0s 36ms/step - loss: 0.9016 - accuracy: 0.6250\n",
            "Epoch 8/20\n",
            "1/1 [==============================] - 0s 38ms/step - loss: 0.7955 - accuracy: 0.8750\n",
            "Epoch 9/20\n",
            "1/1 [==============================] - 0s 43ms/step - loss: 0.8640 - accuracy: 0.5000\n",
            "Epoch 10/20\n",
            "1/1 [==============================] - 0s 33ms/step - loss: 0.5704 - accuracy: 0.8750\n",
            "Epoch 11/20\n",
            "1/1 [==============================] - 0s 36ms/step - loss: 0.7774 - accuracy: 0.6250\n",
            "Epoch 12/20\n",
            "1/1 [==============================] - 0s 48ms/step - loss: 0.4551 - accuracy: 1.0000\n",
            "Epoch 13/20\n",
            "1/1 [==============================] - 0s 35ms/step - loss: 0.4963 - accuracy: 0.8750\n",
            "Epoch 14/20\n",
            "1/1 [==============================] - 0s 43ms/step - loss: 0.4228 - accuracy: 1.0000\n",
            "Epoch 15/20\n",
            "1/1 [==============================] - 0s 38ms/step - loss: 0.3452 - accuracy: 1.0000\n",
            "Epoch 16/20\n",
            "1/1 [==============================] - 0s 36ms/step - loss: 0.2701 - accuracy: 1.0000\n",
            "Epoch 17/20\n",
            "1/1 [==============================] - 0s 55ms/step - loss: 0.2509 - accuracy: 1.0000\n",
            "Epoch 18/20\n",
            "1/1 [==============================] - 0s 36ms/step - loss: 0.2394 - accuracy: 0.8750\n",
            "Epoch 19/20\n",
            "1/1 [==============================] - 0s 39ms/step - loss: 0.1451 - accuracy: 1.0000\n",
            "Epoch 20/20\n",
            "1/1 [==============================] - 0s 39ms/step - loss: 0.1439 - accuracy: 1.0000\n",
            "1/1 [==============================] - 0s 178ms/step - loss: 0.1150 - accuracy: 1.0000\n",
            "do chinh xac 1.0\n",
            "ham mat mat 0.11497695744037628\n"
          ]
        }
      ]
    },
    {
      "cell_type": "code",
      "source": [
        "class_name = {1: '10k',2: '20k',3: '50k',\n",
        "                  4: '100k',}"
      ],
      "metadata": {
        "id": "I4Lj7onrjyVe"
      },
      "execution_count": null,
      "outputs": []
    },
    {
      "cell_type": "code",
      "source": [
        "accuracy=train.history['accuracy']\n",
        "loss=train.history['loss']\n",
        "epochs=range(len(accuracy))\n",
        "plt.plot(epochs,accuracy,'bo',label='Training accuracy')\n",
        "plt.plot(epochs,loss,'b',label='Training loss')\n",
        "plt.show()"
      ],
      "metadata": {
        "colab": {
          "base_uri": "https://localhost:8080/",
          "height": 430
        },
        "id": "Pkk82oIEa5kP",
        "outputId": "49450000-8fb7-4933-bc34-dd821e4a1207"
      },
      "execution_count": null,
      "outputs": [
        {
          "output_type": "display_data",
          "data": {
            "text/plain": [
              "<Figure size 640x480 with 1 Axes>"
            ],
            "image/png": "[encoded data removed]"
          },
          "metadata": {}
        }
      ]
    },
    {
      "cell_type": "code",
      "source": [
        "model.save('/content/drive/MyDrive/Mon AI/CNNMoneyVNCNNMoneyVN.h5')"
      ],
      "metadata": {
        "id": "5fuu3Cpob0un"
      },
      "execution_count": null,
      "outputs": []
    },
    {
      "cell_type": "code",
      "source": [
        "#test\n",
        "filePath = '/content/drive/MyDrive/ANH AI/Money1/100k2.jpg'\n",
        "testImage = load_img(filePath, color_mode = 'rgb', target_size=(30,40))\n",
        "arrayImage = img_to_array(testImage).reshape(1,30,40,3)/255\n",
        "pred = np.argmax(model.predict(arrayImage))\n",
        "print(\"Predicted: \", class_name[pred])\n",
        "plt.imshow(testImage)"
      ],
      "metadata": {
        "colab": {
          "base_uri": "https://localhost:8080/",
          "height": 482
        },
        "id": "gCYhUu3Bj7X1",
        "outputId": "6c9c7f26-d6c2-43b4-cbf8-c16f60757d5f"
      },
      "execution_count": null,
      "outputs": [
        {
          "output_type": "stream",
          "name": "stdout",
          "text": [
            "1/1 [==============================] - 0s 88ms/step\n",
            "Predicted:  100k\n"
          ]
        },
        {
          "output_type": "execute_result",
          "data": {
            "text/plain": [
              "<matplotlib.image.AxesImage at 0x7f2ed5893550>"
            ]
          },
          "metadata": {},
          "execution_count": 19
        },
        {
          "output_type": "display_data",
          "data": {
            "text/plain": [
              "<Figure size 640x480 with 1 Axes>"
            ],
            "image/png": "[encoded data removed]"
          },
          "metadata": {}
        }
      ]
    }
  ]
}