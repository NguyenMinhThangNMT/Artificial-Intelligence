{
  "nbformat": 4,
  "nbformat_minor": 0,
  "metadata": {
    "colab": {
      "provenance": [],
      "gpuType": "T4",
      "authorship_tag": "ABX9TyPXmJC7qOnn4l3TgNcZ2wTW",
      "include_colab_link": true
    },
    "kernelspec": {
      "name": "python3",
      "display_name": "Python 3"
    },
    "language_info": {
      "name": "python"
    },
    "accelerator": "GPU"
  },
  "cells": [
    {
      "cell_type": "markdown",
      "metadata": {
        "id": "view-in-github",
        "colab_type": "text"
      },
      "source": [
        "<a href=\"https://colab.research.google.com/github/NguyenMinhThangNMT/HomeWorks/blob/main/FinalProject.ipynb\" target=\"_parent\"><img src=\"https://colab.research.google.com/assets/colab-badge.svg\" alt=\"Open In Colab\"/></a>"
      ]
    },
    {
      "cell_type": "code",
      "source": [
        "from google.colab import drive\n",
        "drive.mount('/content/drive')"
      ],
      "metadata": {
        "colab": {
          "base_uri": "https://localhost:8080/"
        },
        "id": "r0Gtu_hVqufN",
        "outputId": "47b4d950-6ec5-416a-e812-eb6a74c1b360"
      },
      "execution_count": 42,
      "outputs": [
        {
          "output_type": "stream",
          "name": "stdout",
          "text": [
            "Drive already mounted at /content/drive; to attempt to forcibly remount, call drive.mount(\"/content/drive\", force_remount=True).\n"
          ]
        }
      ]
    },
    {
      "cell_type": "code",
      "source": [
        "from os import listdir\n",
        "from numpy import asarray,save\n",
        "from keras.utils import load_img, img_to_array"
      ],
      "metadata": {
        "id": "XmLwZNQOq5DT"
      },
      "execution_count": 43,
      "outputs": []
    },
    {
      "cell_type": "code",
      "source": [
        "folder = '/content/drive/MyDrive/Hinhcuoiki/Train/'\n",
        "\n",
        "photos, labels = list(), list()\n",
        "for file in listdir(folder) :\n",
        "\n",
        "  if file.startswith('Sup'):\n",
        "    output = 0.0\n",
        "  if file.startswith('Sad'):\n",
        "    output = 1.0\n",
        "  if file.startswith('Neu'):\n",
        "    output = 2.0\n",
        "  if file.startswith('Hap'):\n",
        "    output = 3.0\n",
        "  if file.startswith('Fear'):\n",
        "    output = 4.0\n",
        "  if file.startswith('Angry'):\n",
        "    output = 5.0\n",
        "  if file.startswith('Disgust'):\n",
        "    output = 6.0\n",
        "  photo = load_img(folder + file, target_size = (48,48))\n",
        "  photo = img_to_array(photo)\n",
        "  photos.append(photo)\n",
        "  labels.append(output)\n",
        "photos_train = asarray(photos)\n",
        "labels_train = asarray(labels)\n",
        "print(photos_train.shape, labels_train.shape)\n",
        "save('/content/drive/MyDrive/Mon AI/Train_photo.npy',photos_train)\n",
        "save('/content/drive/MyDrive/Mon AI/Train_label.npy',labels_train)\n",
        ""
      ],
      "metadata": {
        "colab": {
          "base_uri": "https://localhost:8080/"
        },
        "id": "_5jj-0Ovq9qj",
        "outputId": "13e0c862-d7d3-402b-f3fc-a136d58ac0f4"
      },
      "execution_count": 44,
      "outputs": [
        {
          "output_type": "stream",
          "name": "stdout",
          "text": [
            "(1900, 48, 48, 3) (1900,)\n"
          ]
        }
      ]
    },
    {
      "cell_type": "code",
      "source": [
        "folder = '/content/drive/MyDrive/Hinhcuoiki/Test/'\n",
        "photos, labels = list(), list()\n",
        "for file in listdir(folder) :\n",
        "\n",
        "  if file.startswith('Sup'):\n",
        "    output = 0.0\n",
        "  if file.startswith('Sad'):\n",
        "    output = 1.0\n",
        "  if file.startswith('Neu'):\n",
        "    output = 2.0\n",
        "  if file.startswith('Hap'):\n",
        "    output = 3.0\n",
        "  if file.startswith('Fear'):\n",
        "    output = 4.0\n",
        "  if file.startswith('Angry'):\n",
        "    output = 5.0\n",
        "  if file.startswith('Disgust'):\n",
        "    output = 6.0\n",
        "  photo = load_img(folder + file, target_size = (48,48))\n",
        "  photo = img_to_array(photo)\n",
        "  photos.append(photo)\n",
        "  labels.append(output)\n",
        "photos_test = asarray(photos)\n",
        "labels_test = asarray(labels)\n",
        "print(photos_test.shape, labels_test.shape)\n",
        "save('/content/drive/MyDrive/Mon AI/Test_photo_test.npy',photos_test)\n",
        "save('/content/drive/MyDrive/Mon AI/Test_photo_test.npy',labels_test)"
      ],
      "metadata": {
        "colab": {
          "base_uri": "https://localhost:8080/"
        },
        "id": "wR6931frrUZ6",
        "outputId": "99108d4f-e3de-45e9-d304-929ff3b30a5c"
      },
      "execution_count": 45,
      "outputs": [
        {
          "output_type": "stream",
          "name": "stdout",
          "text": [
            "(350, 48, 48, 3) (350,)\n"
          ]
        }
      ]
    },
    {
      "cell_type": "code",
      "source": [
        "import matplotlib.pyplot as plt\n",
        "import numpy as np\n",
        "chosen_idx = 2\n",
        "chosen_img = photos_train[chosen_idx]\n",
        "plt.imshow((chosen_img*255).astype(np.uint8))\n",
        "plt.show()"
      ],
      "metadata": {
        "colab": {
          "base_uri": "https://localhost:8080/",
          "height": 431
        },
        "id": "MTHTcKWxrcqb",
        "outputId": "868996af-9ba4-4313-872b-6a2a00b9242a"
      },
      "execution_count": 46,
      "outputs": [
        {
          "output_type": "display_data",
          "data": {
            "text/plain": [
              "<Figure size 640x480 with 1 Axes>"
            ],
            "image/png": "[encoded data removed]"
          },
          "metadata": {}
        }
      ]
    },
    {
      "cell_type": "code",
      "source": [
        "photos_train = photos_train.reshape(1900,48, 48, 3)\n",
        "photos_train = photos_train.astype('float32')/255\n",
        "photos_test = photos_test.reshape( 350,48, 48, 3)\n",
        "photos_test = photos_test.astype('float32')/255\n",
        "\n",
        "from keras.utils import  to_categorical\n",
        "labels_train = to_categorical(labels_train)\n",
        "labels_test = to_categorical(labels_test)\n",
        "photos_train.shape, labels_train.shape, photos_test.shape, labels_test.shape"
      ],
      "metadata": {
        "colab": {
          "base_uri": "https://localhost:8080/"
        },
        "id": "FnE_R6JrrgTL",
        "outputId": "9dae8c8b-1239-4c5a-aca5-c3d65ae5fb0e"
      },
      "execution_count": 47,
      "outputs": [
        {
          "output_type": "execute_result",
          "data": {
            "text/plain": [
              "((1900, 48, 48, 3), (1900, 7), (350, 48, 48, 3), (350, 7))"
            ]
          },
          "metadata": {},
          "execution_count": 47
        }
      ]
    },
    {
      "cell_type": "code",
      "source": [
        "from keras.models import Sequential, Model\n",
        "from keras import Input, Model\n",
        "from keras.optimizers import Adam\n",
        "from keras.layers import Dense, Dropout, Flatten, Conv2D, MaxPooling2D\n",
        "from keras.layers import BatchNormalization, LeakyReLU\n",
        "batch_size =64\n",
        "epochs = 30\n",
        "classes = 7\n",
        "\n",
        "model = Sequential()\n",
        "#CNN\n",
        "model.add(Conv2D(32, kernel_size = (3,3), activation = 'linear',\n",
        "                 input_shape = (48,48,3), padding = 'same'))\n",
        "# nhan tich chap 32 lan\n",
        "model.add(LeakyReLU(alpha = 0.1))\n",
        "model.add(MaxPooling2D((2,2), padding = 'same'))\n",
        "\n",
        "model.add(Conv2D(64, (3,3), activation = 'linear', padding ='same'))\n",
        "model.add(LeakyReLU(alpha = 0.1))\n",
        "model.add(MaxPooling2D((2,2), padding = 'same'))\n",
        "\n",
        "model.add(Conv2D(128, (3,3), activation = 'linear', padding = 'same'))\n",
        "model.add(LeakyReLU(alpha = 0.1))\n",
        "model.add(MaxPooling2D((2,2), padding = 'same'))\n",
        "#ANN\n",
        "model.add(Flatten())\n",
        "model.add(Dense(128, activation = 'linear'))\n",
        "model.add(LeakyReLU(alpha = 0.1))\n",
        "model.add(Dense(classes, activation ='softmax'))"
      ],
      "metadata": {
        "id": "VOS7_4myrp7s"
      },
      "execution_count": 54,
      "outputs": []
    },
    {
      "cell_type": "code",
      "source": [
        "#compile\n",
        "model.compile(optimizer = Adam(), loss = 'categorical_crossentropy',\n",
        "              metrics = ['accuracy'])\n",
        "model.summary()\n",
        "\n",
        "train = model.fit(photos_train, labels_train, batch_size = batch_size ,\n",
        "                  epochs = epochs, verbose = 1)\n",
        "\n",
        "test_loss, test_acc = model.evaluate(photos_test, labels_test)\n",
        "print('do chinh xac', test_acc)\n",
        "print('ham mat mat', test_loss)\n",
        ""
      ],
      "metadata": {
        "colab": {
          "base_uri": "https://localhost:8080/"
        },
        "id": "EfyjzBDArudM",
        "outputId": "b12b0f57-7673-4a99-f4f5-f834afe66929"
      },
      "execution_count": 55,
      "outputs": [
        {
          "output_type": "stream",
          "name": "stdout",
          "text": [
            "Model: \"sequential_7\"\n",
            "_________________________________________________________________\n",
            " Layer (type)                Output Shape              Param #   \n",
            "=================================================================\n",
            " conv2d_21 (Conv2D)          (None, 48, 48, 32)        896       \n",
            "                                                                 \n",
            " leaky_re_lu_28 (LeakyReLU)  (None, 48, 48, 32)        0         \n",
            "                                                                 \n",
            " max_pooling2d_21 (MaxPoolin  (None, 24, 24, 32)       0         \n",
            " g2D)                                                            \n",
            "                                                                 \n",
            " conv2d_22 (Conv2D)          (None, 24, 24, 64)        18496     \n",
            "                                                                 \n",
            " leaky_re_lu_29 (LeakyReLU)  (None, 24, 24, 64)        0         \n",
            "                                                                 \n",
            " max_pooling2d_22 (MaxPoolin  (None, 12, 12, 64)       0         \n",
            " g2D)                                                            \n",
            "                                                                 \n",
            " conv2d_23 (Conv2D)          (None, 12, 12, 128)       73856     \n",
            "                                                                 \n",
            " leaky_re_lu_30 (LeakyReLU)  (None, 12, 12, 128)       0         \n",
            "                                                                 \n",
            " max_pooling2d_23 (MaxPoolin  (None, 6, 6, 128)        0         \n",
            " g2D)                                                            \n",
            "                                                                 \n",
            " flatten_7 (Flatten)         (None, 4608)              0         \n",
            "                                                                 \n",
            " dense_14 (Dense)            (None, 128)               589952    \n",
            "                                                                 \n",
            " leaky_re_lu_31 (LeakyReLU)  (None, 128)               0         \n",
            "                                                                 \n",
            " dense_15 (Dense)            (None, 7)                 903       \n",
            "                                                                 \n",
            "=================================================================\n",
            "Total params: 684,103\n",
            "Trainable params: 684,103\n",
            "Non-trainable params: 0\n",
            "_________________________________________________________________\n",
            "Epoch 1/30\n",
            "30/30 [==============================] - 1s 9ms/step - loss: 1.9682 - accuracy: 0.1537\n",
            "Epoch 2/30\n",
            "30/30 [==============================] - 0s 8ms/step - loss: 1.9251 - accuracy: 0.1795\n",
            "Epoch 3/30\n",
            "30/30 [==============================] - 0s 7ms/step - loss: 1.8529 - accuracy: 0.2479\n",
            "Epoch 4/30\n",
            "30/30 [==============================] - 0s 8ms/step - loss: 1.7724 - accuracy: 0.3126\n",
            "Epoch 5/30\n",
            "30/30 [==============================] - 0s 7ms/step - loss: 1.6564 - accuracy: 0.3679\n",
            "Epoch 6/30\n",
            "30/30 [==============================] - 0s 7ms/step - loss: 1.5421 - accuracy: 0.4258\n",
            "Epoch 7/30\n",
            "30/30 [==============================] - 0s 7ms/step - loss: 1.3927 - accuracy: 0.4884\n",
            "Epoch 8/30\n",
            "30/30 [==============================] - 0s 7ms/step - loss: 1.2230 - accuracy: 0.5537\n",
            "Epoch 9/30\n",
            "30/30 [==============================] - 0s 7ms/step - loss: 1.0244 - accuracy: 0.6379\n",
            "Epoch 10/30\n",
            "30/30 [==============================] - 0s 7ms/step - loss: 0.8098 - accuracy: 0.7263\n",
            "Epoch 11/30\n",
            "30/30 [==============================] - 0s 7ms/step - loss: 0.5898 - accuracy: 0.8137\n",
            "Epoch 12/30\n",
            "30/30 [==============================] - 0s 8ms/step - loss: 0.3902 - accuracy: 0.8742\n",
            "Epoch 13/30\n",
            "30/30 [==============================] - 0s 8ms/step - loss: 0.2575 - accuracy: 0.9289\n",
            "Epoch 14/30\n",
            "30/30 [==============================] - 0s 7ms/step - loss: 0.1364 - accuracy: 0.9716\n",
            "Epoch 15/30\n",
            "30/30 [==============================] - 0s 8ms/step - loss: 0.0754 - accuracy: 0.9805\n",
            "Epoch 16/30\n",
            "30/30 [==============================] - 0s 7ms/step - loss: 0.0788 - accuracy: 0.9805\n",
            "Epoch 17/30\n",
            "30/30 [==============================] - 0s 7ms/step - loss: 0.0461 - accuracy: 0.9947\n",
            "Epoch 18/30\n",
            "30/30 [==============================] - 0s 7ms/step - loss: 0.0184 - accuracy: 0.9984\n",
            "Epoch 19/30\n",
            "30/30 [==============================] - 0s 8ms/step - loss: 0.0126 - accuracy: 0.9974\n",
            "Epoch 20/30\n",
            "30/30 [==============================] - 0s 8ms/step - loss: 0.0075 - accuracy: 0.9995\n",
            "Epoch 21/30\n",
            "30/30 [==============================] - 0s 8ms/step - loss: 0.0097 - accuracy: 0.9995\n",
            "Epoch 22/30\n",
            "30/30 [==============================] - 0s 9ms/step - loss: 0.0052 - accuracy: 0.9995\n",
            "Epoch 23/30\n",
            "30/30 [==============================] - 0s 8ms/step - loss: 0.0086 - accuracy: 0.9995\n",
            "Epoch 24/30\n",
            "30/30 [==============================] - 0s 9ms/step - loss: 0.0121 - accuracy: 0.9984\n",
            "Epoch 25/30\n",
            "30/30 [==============================] - 0s 9ms/step - loss: 0.0140 - accuracy: 0.9979\n",
            "Epoch 26/30\n",
            "30/30 [==============================] - 0s 9ms/step - loss: 0.0063 - accuracy: 0.9995\n",
            "Epoch 27/30\n",
            "30/30 [==============================] - 0s 8ms/step - loss: 0.0095 - accuracy: 0.9989\n",
            "Epoch 28/30\n",
            "30/30 [==============================] - 0s 9ms/step - loss: 0.0096 - accuracy: 0.9989\n",
            "Epoch 29/30\n",
            "30/30 [==============================] - 0s 9ms/step - loss: 0.0100 - accuracy: 0.9989\n",
            "Epoch 30/30\n",
            "30/30 [==============================] - 0s 8ms/step - loss: 0.0063 - accuracy: 0.9995\n",
            "11/11 [==============================] - 0s 5ms/step - loss: 1.9275 - accuracy: 0.7657\n",
            "do chinh xac 0.7657142877578735\n",
            "ham mat mat 1.9274654388427734\n"
          ]
        }
      ]
    },
    {
      "cell_type": "code",
      "source": [
        "model.save('/content/drive/MyDrive/Mon AI/data.h5')"
      ],
      "metadata": {
        "id": "IeH-WU8rwTv7"
      },
      "execution_count": 56,
      "outputs": []
    },
    {
      "cell_type": "code",
      "source": [
        "accuracy = train.history['accuracy']\n",
        "loss = train.history['loss']\n",
        "epochs = range(len(accuracy))\n",
        "plt.plot(epochs, accuracy, 'k', label = 'Train accuracy')\n",
        "plt.plot(epochs, loss, 'b', label = 'Train loss')\n",
        "plt.legend(['Train accuracy', 'Train loss'])\n",
        "plt.show()\n",
        ""
      ],
      "metadata": {
        "colab": {
          "base_uri": "https://localhost:8080/",
          "height": 430
        },
        "id": "vzc4tVN4wXaL",
        "outputId": "fd824ed9-ca53-4ba3-be57-33dc19e743db"
      },
      "execution_count": 57,
      "outputs": [
        {
          "output_type": "display_data",
          "data": {
            "text/plain": [
              "<Figure size 640x480 with 1 Axes>"
            ],
            "image/png": "[encoded data removed]"
          },
          "metadata": {}
        }
      ]
    }
  ]
}