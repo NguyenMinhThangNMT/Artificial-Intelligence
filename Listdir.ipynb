{
  "nbformat": 4,
  "nbformat_minor": 0,
  "metadata": {
    "colab": {
      "provenance": [],
      "mount_file_id": "1zUYSoXEmXKKgCYzVk37zvz5NYT5N7v3d",
      "authorship_tag": "ABX9TyNIX5g8v9d6T9yAZhqvYD7N",
      "include_colab_link": true
    },
    "kernelspec": {
      "name": "python3",
      "display_name": "Python 3"
    },
    "language_info": {
      "name": "python"
    }
  },
  "cells": [
    {
      "cell_type": "markdown",
      "metadata": {
        "id": "view-in-github",
        "colab_type": "text"
      },
      "source": [
        "<a href=\"https://colab.research.google.com/github/NguyenMinhThangNMT/HomeWorks/blob/main/Listdir.ipynb\" target=\"_parent\"><img src=\"https://colab.research.google.com/assets/colab-badge.svg\" alt=\"Open In Colab\"/></a>"
      ]
    },
    {
      "cell_type": "code",
      "execution_count": 53,
      "metadata": {
        "colab": {
          "base_uri": "https://localhost:8080/"
        },
        "id": "NC2ovZFPmU-j",
        "outputId": "ae7c01ef-04fb-452f-fdad-4fdb0ab5caa4"
      },
      "outputs": [
        {
          "output_type": "stream",
          "name": "stdout",
          "text": [
            "Mounted at /content/gdrive\n"
          ]
        }
      ],
      "source": [
        "from google.colab import drive\n",
        "drive.mount(\"/content/gdrive\",force_remount=True)"
      ]
    },
    {
      "cell_type": "code",
      "source": [
        "from numpy.core.multiarray import asarray\n",
        "from os import listdir\n",
        "from numpy import asarray,save,append\n",
        "from keras.utils import load_img,img_to_array\n",
        "\n",
        "folder='/content/gdrive/MyDrive/ANH AI/'\n",
        "photos,labels=list(),list()\n",
        "for file in listdir(folder):\n",
        "  output=0.0\n",
        "  if file.startswith('thang'):\n",
        "    output=1.0\n",
        "  if file.startswith('nmt'):\n",
        "    output=2.0\n",
        "  photo=load_img(folder+file)\n",
        "  photo=img_to_array(photo)\n",
        "  photos.append(photo)\n",
        "  labels.append(output)\n",
        "photos=asarray(photos)\n",
        "labels=asarray(labels)\n",
        "print(photo.shape)\n",
        "save(('/content/gdrive/MyDrive/photo.py'),photo)\n",
        "save(('/content/gdrive/MyDrive/label.py'),photo)"
      ],
      "metadata": {
        "colab": {
          "base_uri": "https://localhost:8080/"
        },
        "id": "agy_2Wq0m5bQ",
        "outputId": "cd8e16fb-c3c6-4ae5-d134-687432c3c535"
      },
      "execution_count": 58,
      "outputs": [
        {
          "output_type": "stream",
          "name": "stdout",
          "text": [
            "(25, 30, 3)\n"
          ]
        }
      ]
    }
  ]
}