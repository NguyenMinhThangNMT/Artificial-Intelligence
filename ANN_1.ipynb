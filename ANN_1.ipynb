{
  "nbformat": 4,
  "nbformat_minor": 0,
  "metadata": {
    "colab": {
      "provenance": [],
      "authorship_tag": "ABX9TyNyhE+zOZQjN2xhUaNvH6wi",
      "include_colab_link": true
    },
    "kernelspec": {
      "name": "python3",
      "display_name": "Python 3"
    },
    "language_info": {
      "name": "python"
    }
  },
  "cells": [
    {
      "cell_type": "markdown",
      "metadata": {
        "id": "view-in-github",
        "colab_type": "text"
      },
      "source": [
        "<a href=\"https://colab.research.google.com/github/NguyenMinhThangNMT/HomeWorks/blob/main/ANN_1.ipynb\" target=\"_parent\"><img src=\"https://colab.research.google.com/assets/colab-badge.svg\" alt=\"Open In Colab\"/></a>"
      ]
    },
    {
      "cell_type": "code",
      "execution_count": 16,
      "metadata": {
        "colab": {
          "base_uri": "https://localhost:8080/"
        },
        "id": "U250FT2bsBOI",
        "outputId": "132927e7-ffb6-40a0-c0d2-9eb0662b40a3"
      },
      "outputs": [
        {
          "output_type": "stream",
          "name": "stdout",
          "text": [
            "Looking in indexes: https://pypi.org/simple, https://us-python.pkg.dev/colab-wheels/public/simple/\n",
            "Requirement already satisfied: scikit-learn in /usr/local/lib/python3.9/dist-packages (1.2.2)\n",
            "Requirement already satisfied: scipy>=1.3.2 in /usr/local/lib/python3.9/dist-packages (from scikit-learn) (1.10.1)\n",
            "Requirement already satisfied: joblib>=1.1.1 in /usr/local/lib/python3.9/dist-packages (from scikit-learn) (1.1.1)\n",
            "Requirement already satisfied: numpy>=1.17.3 in /usr/local/lib/python3.9/dist-packages (from scikit-learn) (1.22.4)\n",
            "Requirement already satisfied: threadpoolctl>=2.0.0 in /usr/local/lib/python3.9/dist-packages (from scikit-learn) (3.1.0)\n"
          ]
        }
      ],
      "source": [
        "pip install scikit-learn"
      ]
    },
    {
      "cell_type": "code",
      "source": [
        "from sklearn.linear_model import Perceptron\n",
        "\n",
        "\n",
        "x=[[0,0],[0,1],[1,0],[1,1]]\n",
        "t=[0,1,1,1]\n",
        "\n",
        "model=Perceptron()\n",
        "model.fit(x,t)\n",
        "model.score(x,t)\n",
        "\n"
      ],
      "metadata": {
        "colab": {
          "base_uri": "https://localhost:8080/"
        },
        "id": "rld152ZCsyUx",
        "outputId": "a1967e29-8388-45c2-d369-bd7f9c3dc5a1"
      },
      "execution_count": 17,
      "outputs": [
        {
          "output_type": "execute_result",
          "data": {
            "text/plain": [
              "1.0"
            ]
          },
          "metadata": {},
          "execution_count": 17
        }
      ]
    },
    {
      "cell_type": "code",
      "source": [
        "x1=[[0.5,0.5],[-0.5,-0.5],[10,9],[-1,-3]]\n",
        "\n",
        "y1=model.predict(x1)\n",
        "model.score(x1,y1)\n",
        "print(y1)"
      ],
      "metadata": {
        "colab": {
          "base_uri": "https://localhost:8080/"
        },
        "id": "Q9NToKFnwJf_",
        "outputId": "c73b517b-191a-4287-ca50-db45000658df"
      },
      "execution_count": 26,
      "outputs": [
        {
          "output_type": "stream",
          "name": "stdout",
          "text": [
            "[1 0 1 0]\n"
          ]
        }
      ]
    },
    {
      "cell_type": "code",
      "source": [
        "x2=[[0.5,0.5],[-0.5,0],[0,0.5],[0.4,0]]\n",
        "\n",
        "y2=model.predict(x1)\n",
        "model.score(x1,y1)\n",
        "print(y1)"
      ],
      "metadata": {
        "colab": {
          "base_uri": "https://localhost:8080/"
        },
        "id": "4X4IkIHKxxTz",
        "outputId": "c9f37ebe-524f-4ca3-bcae-c27daaf26749"
      },
      "execution_count": 20,
      "outputs": [
        {
          "output_type": "stream",
          "name": "stdout",
          "text": [
            "[1 0 1 0]\n"
          ]
        }
      ]
    },
    {
      "cell_type": "code",
      "source": [
        "x3=[[-0.5,-0.5],[-0.5,0.5],[0.3,-0.5],[0.1,1]]\n",
        "t3=[1,1,0,0]\n",
        "\n",
        "model=Perceptron()\n",
        "model.fit(x3,t3)\n",
        "model.score(x3,t3)\n",
        "\n",
        "print(t3)\n"
      ],
      "metadata": {
        "colab": {
          "base_uri": "https://localhost:8080/"
        },
        "id": "QFsCV0Egy1JX",
        "outputId": "8e7ded67-855a-4e14-f600-3dd2b216c0be"
      },
      "execution_count": 30,
      "outputs": [
        {
          "output_type": "stream",
          "name": "stdout",
          "text": [
            "[1, 1, 0, 0]\n"
          ]
        }
      ]
    }
  ]
}